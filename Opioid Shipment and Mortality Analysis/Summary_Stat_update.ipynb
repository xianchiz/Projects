{
 "cells": [
  {
   "cell_type": "code",
   "execution_count": 147,
   "metadata": {},
   "outputs": [],
   "source": [
    "import numpy as np\n",
    "import pandas as pd\n"
   ]
  },
  {
   "cell_type": "markdown",
   "metadata": {},
   "source": [
    "## Shipment "
   ]
  },
  {
   "cell_type": "markdown",
   "metadata": {},
   "source": [
    "### Florida -- AZ, LA, SC"
   ]
  },
  {
   "cell_type": "code",
   "execution_count": 231,
   "metadata": {},
   "outputs": [
    {
     "data": {
      "text/html": [
       "<div>\n",
       "<style scoped>\n",
       "    .dataframe tbody tr th:only-of-type {\n",
       "        vertical-align: middle;\n",
       "    }\n",
       "\n",
       "    .dataframe tbody tr th {\n",
       "        vertical-align: top;\n",
       "    }\n",
       "\n",
       "    .dataframe thead th {\n",
       "        text-align: right;\n",
       "    }\n",
       "</style>\n",
       "<table border=\"1\" class=\"dataframe\">\n",
       "  <thead>\n",
       "    <tr style=\"text-align: right;\">\n",
       "      <th></th>\n",
       "      <th>STNAME</th>\n",
       "      <th>CTYNAME</th>\n",
       "      <th>YEAR</th>\n",
       "      <th>POPULATION</th>\n",
       "      <th>BUYER_COUNTY_x</th>\n",
       "      <th>BUYER_STATE_x</th>\n",
       "      <th>FIPS Code</th>\n",
       "      <th>State_x</th>\n",
       "      <th>BUYER_STATE_y</th>\n",
       "      <th>BUYER_COUNTY_y</th>\n",
       "      <th>MME</th>\n",
       "      <th>State_y</th>\n",
       "    </tr>\n",
       "  </thead>\n",
       "  <tbody>\n",
       "    <tr>\n",
       "      <th>0</th>\n",
       "      <td>Arizona</td>\n",
       "      <td>APACHE</td>\n",
       "      <td>2006</td>\n",
       "      <td>69066</td>\n",
       "      <td>APACHE</td>\n",
       "      <td>AZ</td>\n",
       "      <td>4001</td>\n",
       "      <td>Arizona</td>\n",
       "      <td>AZ</td>\n",
       "      <td>APACHE</td>\n",
       "      <td>4.956969e+06</td>\n",
       "      <td>Arizona</td>\n",
       "    </tr>\n",
       "    <tr>\n",
       "      <th>1</th>\n",
       "      <td>Arizona</td>\n",
       "      <td>APACHE</td>\n",
       "      <td>2007</td>\n",
       "      <td>69278</td>\n",
       "      <td>APACHE</td>\n",
       "      <td>AZ</td>\n",
       "      <td>4001</td>\n",
       "      <td>Arizona</td>\n",
       "      <td>AZ</td>\n",
       "      <td>APACHE</td>\n",
       "      <td>5.611684e+06</td>\n",
       "      <td>Arizona</td>\n",
       "    </tr>\n",
       "    <tr>\n",
       "      <th>2</th>\n",
       "      <td>Arizona</td>\n",
       "      <td>APACHE</td>\n",
       "      <td>2008</td>\n",
       "      <td>69520</td>\n",
       "      <td>APACHE</td>\n",
       "      <td>AZ</td>\n",
       "      <td>4001</td>\n",
       "      <td>Arizona</td>\n",
       "      <td>AZ</td>\n",
       "      <td>APACHE</td>\n",
       "      <td>5.853244e+06</td>\n",
       "      <td>Arizona</td>\n",
       "    </tr>\n",
       "    <tr>\n",
       "      <th>3</th>\n",
       "      <td>Arizona</td>\n",
       "      <td>APACHE</td>\n",
       "      <td>2009</td>\n",
       "      <td>70591</td>\n",
       "      <td>APACHE</td>\n",
       "      <td>AZ</td>\n",
       "      <td>4001</td>\n",
       "      <td>Arizona</td>\n",
       "      <td>AZ</td>\n",
       "      <td>APACHE</td>\n",
       "      <td>7.344332e+06</td>\n",
       "      <td>Arizona</td>\n",
       "    </tr>\n",
       "    <tr>\n",
       "      <th>4</th>\n",
       "      <td>Arizona</td>\n",
       "      <td>APACHE</td>\n",
       "      <td>2010</td>\n",
       "      <td>71828</td>\n",
       "      <td>APACHE</td>\n",
       "      <td>AZ</td>\n",
       "      <td>4001</td>\n",
       "      <td>Arizona</td>\n",
       "      <td>AZ</td>\n",
       "      <td>APACHE</td>\n",
       "      <td>7.732743e+06</td>\n",
       "      <td>Arizona</td>\n",
       "    </tr>\n",
       "  </tbody>\n",
       "</table>\n",
       "</div>"
      ],
      "text/plain": [
       "    STNAME CTYNAME  YEAR  POPULATION BUYER_COUNTY_x BUYER_STATE_x  FIPS Code  \\\n",
       "0  Arizona  APACHE  2006       69066         APACHE            AZ       4001   \n",
       "1  Arizona  APACHE  2007       69278         APACHE            AZ       4001   \n",
       "2  Arizona  APACHE  2008       69520         APACHE            AZ       4001   \n",
       "3  Arizona  APACHE  2009       70591         APACHE            AZ       4001   \n",
       "4  Arizona  APACHE  2010       71828         APACHE            AZ       4001   \n",
       "\n",
       "   State_x BUYER_STATE_y BUYER_COUNTY_y           MME  State_y  \n",
       "0  Arizona            AZ         APACHE  4.956969e+06  Arizona  \n",
       "1  Arizona            AZ         APACHE  5.611684e+06  Arizona  \n",
       "2  Arizona            AZ         APACHE  5.853244e+06  Arizona  \n",
       "3  Arizona            AZ         APACHE  7.344332e+06  Arizona  \n",
       "4  Arizona            AZ         APACHE  7.732743e+06  Arizona  "
      ]
     },
     "execution_count": 231,
     "metadata": {},
     "output_type": "execute_result"
    }
   ],
   "source": [
    "url = 'https://raw.githubusercontent.com/MIDS-at-Duke/pds-2022-yellow-team/main/20_intermediate_files/fl_ship_merge.csv?token=GHSAT0AAAAAABYIEB2PFL555SBGBNVDARLGY4TWU3A'\n",
    "df = pd.read_csv(url)\n",
    "df.head(5)"
   ]
  },
  {
   "cell_type": "code",
   "execution_count": 233,
   "metadata": {},
   "outputs": [],
   "source": [
    "df1 = df.copy()\n",
    "df1['BUYER_STATE_x']=df['BUYER_STATE_x'].replace(['AZ','LA','SC'],'Comparison_State')"
   ]
  },
  {
   "cell_type": "code",
   "execution_count": 234,
   "metadata": {},
   "outputs": [
    {
     "data": {
      "text/html": [
       "<div>\n",
       "<style scoped>\n",
       "    .dataframe tbody tr th:only-of-type {\n",
       "        vertical-align: middle;\n",
       "    }\n",
       "\n",
       "    .dataframe tbody tr th {\n",
       "        vertical-align: top;\n",
       "    }\n",
       "\n",
       "    .dataframe thead th {\n",
       "        text-align: right;\n",
       "    }\n",
       "</style>\n",
       "<table border=\"1\" class=\"dataframe\">\n",
       "  <thead>\n",
       "    <tr style=\"text-align: right;\">\n",
       "      <th></th>\n",
       "      <th>STNAME</th>\n",
       "      <th>CTYNAME</th>\n",
       "      <th>YEAR</th>\n",
       "      <th>POPULATION</th>\n",
       "      <th>BUYER_COUNTY_x</th>\n",
       "      <th>BUYER_STATE_x</th>\n",
       "      <th>FIPS Code</th>\n",
       "      <th>State_x</th>\n",
       "      <th>BUYER_STATE_y</th>\n",
       "      <th>BUYER_COUNTY_y</th>\n",
       "      <th>MME</th>\n",
       "      <th>State_y</th>\n",
       "    </tr>\n",
       "  </thead>\n",
       "  <tbody>\n",
       "    <tr>\n",
       "      <th>0</th>\n",
       "      <td>Arizona</td>\n",
       "      <td>APACHE</td>\n",
       "      <td>2006</td>\n",
       "      <td>69066</td>\n",
       "      <td>APACHE</td>\n",
       "      <td>Comparison_State</td>\n",
       "      <td>4001</td>\n",
       "      <td>Arizona</td>\n",
       "      <td>AZ</td>\n",
       "      <td>APACHE</td>\n",
       "      <td>4.956969e+06</td>\n",
       "      <td>Arizona</td>\n",
       "    </tr>\n",
       "    <tr>\n",
       "      <th>1</th>\n",
       "      <td>Arizona</td>\n",
       "      <td>APACHE</td>\n",
       "      <td>2007</td>\n",
       "      <td>69278</td>\n",
       "      <td>APACHE</td>\n",
       "      <td>Comparison_State</td>\n",
       "      <td>4001</td>\n",
       "      <td>Arizona</td>\n",
       "      <td>AZ</td>\n",
       "      <td>APACHE</td>\n",
       "      <td>5.611684e+06</td>\n",
       "      <td>Arizona</td>\n",
       "    </tr>\n",
       "    <tr>\n",
       "      <th>2</th>\n",
       "      <td>Arizona</td>\n",
       "      <td>APACHE</td>\n",
       "      <td>2008</td>\n",
       "      <td>69520</td>\n",
       "      <td>APACHE</td>\n",
       "      <td>Comparison_State</td>\n",
       "      <td>4001</td>\n",
       "      <td>Arizona</td>\n",
       "      <td>AZ</td>\n",
       "      <td>APACHE</td>\n",
       "      <td>5.853244e+06</td>\n",
       "      <td>Arizona</td>\n",
       "    </tr>\n",
       "    <tr>\n",
       "      <th>3</th>\n",
       "      <td>Arizona</td>\n",
       "      <td>APACHE</td>\n",
       "      <td>2009</td>\n",
       "      <td>70591</td>\n",
       "      <td>APACHE</td>\n",
       "      <td>Comparison_State</td>\n",
       "      <td>4001</td>\n",
       "      <td>Arizona</td>\n",
       "      <td>AZ</td>\n",
       "      <td>APACHE</td>\n",
       "      <td>7.344332e+06</td>\n",
       "      <td>Arizona</td>\n",
       "    </tr>\n",
       "    <tr>\n",
       "      <th>4</th>\n",
       "      <td>Arizona</td>\n",
       "      <td>APACHE</td>\n",
       "      <td>2010</td>\n",
       "      <td>71828</td>\n",
       "      <td>APACHE</td>\n",
       "      <td>Comparison_State</td>\n",
       "      <td>4001</td>\n",
       "      <td>Arizona</td>\n",
       "      <td>AZ</td>\n",
       "      <td>APACHE</td>\n",
       "      <td>7.732743e+06</td>\n",
       "      <td>Arizona</td>\n",
       "    </tr>\n",
       "    <tr>\n",
       "      <th>...</th>\n",
       "      <td>...</td>\n",
       "      <td>...</td>\n",
       "      <td>...</td>\n",
       "      <td>...</td>\n",
       "      <td>...</td>\n",
       "      <td>...</td>\n",
       "      <td>...</td>\n",
       "      <td>...</td>\n",
       "      <td>...</td>\n",
       "      <td>...</td>\n",
       "      <td>...</td>\n",
       "      <td>...</td>\n",
       "    </tr>\n",
       "    <tr>\n",
       "      <th>1715</th>\n",
       "      <td>South Carolina</td>\n",
       "      <td>YORK</td>\n",
       "      <td>2010</td>\n",
       "      <td>226871</td>\n",
       "      <td>YORK</td>\n",
       "      <td>Comparison_State</td>\n",
       "      <td>45091</td>\n",
       "      <td>South Carolina</td>\n",
       "      <td>SC</td>\n",
       "      <td>YORK</td>\n",
       "      <td>5.209517e+07</td>\n",
       "      <td>South Carolina</td>\n",
       "    </tr>\n",
       "    <tr>\n",
       "      <th>1716</th>\n",
       "      <td>South Carolina</td>\n",
       "      <td>YORK</td>\n",
       "      <td>2011</td>\n",
       "      <td>230131</td>\n",
       "      <td>YORK</td>\n",
       "      <td>Comparison_State</td>\n",
       "      <td>45091</td>\n",
       "      <td>South Carolina</td>\n",
       "      <td>SC</td>\n",
       "      <td>YORK</td>\n",
       "      <td>5.296504e+07</td>\n",
       "      <td>South Carolina</td>\n",
       "    </tr>\n",
       "    <tr>\n",
       "      <th>1717</th>\n",
       "      <td>South Carolina</td>\n",
       "      <td>YORK</td>\n",
       "      <td>2012</td>\n",
       "      <td>234151</td>\n",
       "      <td>YORK</td>\n",
       "      <td>Comparison_State</td>\n",
       "      <td>45091</td>\n",
       "      <td>South Carolina</td>\n",
       "      <td>SC</td>\n",
       "      <td>YORK</td>\n",
       "      <td>5.644417e+07</td>\n",
       "      <td>South Carolina</td>\n",
       "    </tr>\n",
       "    <tr>\n",
       "      <th>1718</th>\n",
       "      <td>South Carolina</td>\n",
       "      <td>YORK</td>\n",
       "      <td>2013</td>\n",
       "      <td>238736</td>\n",
       "      <td>YORK</td>\n",
       "      <td>Comparison_State</td>\n",
       "      <td>45091</td>\n",
       "      <td>South Carolina</td>\n",
       "      <td>SC</td>\n",
       "      <td>YORK</td>\n",
       "      <td>5.813704e+07</td>\n",
       "      <td>South Carolina</td>\n",
       "    </tr>\n",
       "    <tr>\n",
       "      <th>1719</th>\n",
       "      <td>South Carolina</td>\n",
       "      <td>YORK</td>\n",
       "      <td>2014</td>\n",
       "      <td>244661</td>\n",
       "      <td>YORK</td>\n",
       "      <td>Comparison_State</td>\n",
       "      <td>45091</td>\n",
       "      <td>South Carolina</td>\n",
       "      <td>SC</td>\n",
       "      <td>YORK</td>\n",
       "      <td>6.217813e+07</td>\n",
       "      <td>South Carolina</td>\n",
       "    </tr>\n",
       "  </tbody>\n",
       "</table>\n",
       "<p>1720 rows × 12 columns</p>\n",
       "</div>"
      ],
      "text/plain": [
       "              STNAME CTYNAME  YEAR  POPULATION BUYER_COUNTY_x  \\\n",
       "0            Arizona  APACHE  2006       69066         APACHE   \n",
       "1            Arizona  APACHE  2007       69278         APACHE   \n",
       "2            Arizona  APACHE  2008       69520         APACHE   \n",
       "3            Arizona  APACHE  2009       70591         APACHE   \n",
       "4            Arizona  APACHE  2010       71828         APACHE   \n",
       "...              ...     ...   ...         ...            ...   \n",
       "1715  South Carolina    YORK  2010      226871           YORK   \n",
       "1716  South Carolina    YORK  2011      230131           YORK   \n",
       "1717  South Carolina    YORK  2012      234151           YORK   \n",
       "1718  South Carolina    YORK  2013      238736           YORK   \n",
       "1719  South Carolina    YORK  2014      244661           YORK   \n",
       "\n",
       "         BUYER_STATE_x  FIPS Code         State_x BUYER_STATE_y  \\\n",
       "0     Comparison_State       4001         Arizona            AZ   \n",
       "1     Comparison_State       4001         Arizona            AZ   \n",
       "2     Comparison_State       4001         Arizona            AZ   \n",
       "3     Comparison_State       4001         Arizona            AZ   \n",
       "4     Comparison_State       4001         Arizona            AZ   \n",
       "...                ...        ...             ...           ...   \n",
       "1715  Comparison_State      45091  South Carolina            SC   \n",
       "1716  Comparison_State      45091  South Carolina            SC   \n",
       "1717  Comparison_State      45091  South Carolina            SC   \n",
       "1718  Comparison_State      45091  South Carolina            SC   \n",
       "1719  Comparison_State      45091  South Carolina            SC   \n",
       "\n",
       "     BUYER_COUNTY_y           MME         State_y  \n",
       "0            APACHE  4.956969e+06         Arizona  \n",
       "1            APACHE  5.611684e+06         Arizona  \n",
       "2            APACHE  5.853244e+06         Arizona  \n",
       "3            APACHE  7.344332e+06         Arizona  \n",
       "4            APACHE  7.732743e+06         Arizona  \n",
       "...             ...           ...             ...  \n",
       "1715           YORK  5.209517e+07  South Carolina  \n",
       "1716           YORK  5.296504e+07  South Carolina  \n",
       "1717           YORK  5.644417e+07  South Carolina  \n",
       "1718           YORK  5.813704e+07  South Carolina  \n",
       "1719           YORK  6.217813e+07  South Carolina  \n",
       "\n",
       "[1720 rows x 12 columns]"
      ]
     },
     "execution_count": 234,
     "metadata": {},
     "output_type": "execute_result"
    }
   ],
   "source": [
    "df1"
   ]
  },
  {
   "cell_type": "code",
   "execution_count": 235,
   "metadata": {},
   "outputs": [
    {
     "data": {
      "text/html": [
       "<div>\n",
       "<style scoped>\n",
       "    .dataframe tbody tr th:only-of-type {\n",
       "        vertical-align: middle;\n",
       "    }\n",
       "\n",
       "    .dataframe tbody tr th {\n",
       "        vertical-align: top;\n",
       "    }\n",
       "\n",
       "    .dataframe thead th {\n",
       "        text-align: right;\n",
       "    }\n",
       "</style>\n",
       "<table border=\"1\" class=\"dataframe\">\n",
       "  <thead>\n",
       "    <tr style=\"text-align: right;\">\n",
       "      <th></th>\n",
       "      <th>count</th>\n",
       "      <th>mean</th>\n",
       "      <th>std</th>\n",
       "      <th>min</th>\n",
       "      <th>25%</th>\n",
       "      <th>50%</th>\n",
       "      <th>75%</th>\n",
       "      <th>max</th>\n",
       "    </tr>\n",
       "    <tr>\n",
       "      <th>BUYER_STATE_x</th>\n",
       "      <th></th>\n",
       "      <th></th>\n",
       "      <th></th>\n",
       "      <th></th>\n",
       "      <th></th>\n",
       "      <th></th>\n",
       "      <th></th>\n",
       "      <th></th>\n",
       "    </tr>\n",
       "  </thead>\n",
       "  <tbody>\n",
       "    <tr>\n",
       "      <th>Comparison_State</th>\n",
       "      <td>1120.0</td>\n",
       "      <td>5.532070e+07</td>\n",
       "      <td>1.723070e+08</td>\n",
       "      <td>2185.88</td>\n",
       "      <td>4985211.97</td>\n",
       "      <td>14981229.21</td>\n",
       "      <td>4.354434e+07</td>\n",
       "      <td>2.114214e+09</td>\n",
       "    </tr>\n",
       "    <tr>\n",
       "      <th>FL</th>\n",
       "      <td>600.0</td>\n",
       "      <td>1.724027e+08</td>\n",
       "      <td>3.462363e+08</td>\n",
       "      <td>628449.83</td>\n",
       "      <td>9807154.29</td>\n",
       "      <td>54206960.72</td>\n",
       "      <td>1.665996e+08</td>\n",
       "      <td>3.026737e+09</td>\n",
       "    </tr>\n",
       "  </tbody>\n",
       "</table>\n",
       "</div>"
      ],
      "text/plain": [
       "                   count          mean           std        min         25%  \\\n",
       "BUYER_STATE_x                                                                 \n",
       "Comparison_State  1120.0  5.532070e+07  1.723070e+08    2185.88  4985211.97   \n",
       "FL                 600.0  1.724027e+08  3.462363e+08  628449.83  9807154.29   \n",
       "\n",
       "                          50%           75%           max  \n",
       "BUYER_STATE_x                                              \n",
       "Comparison_State  14981229.21  4.354434e+07  2.114214e+09  \n",
       "FL                54206960.72  1.665996e+08  3.026737e+09  "
      ]
     },
     "execution_count": 235,
     "metadata": {},
     "output_type": "execute_result"
    }
   ],
   "source": [
    "df1['BUYER_STATE_x'].value_counts()\n",
    "round(df1.groupby('BUYER_STATE_x')['MME'].describe(),2)"
   ]
  },
  {
   "cell_type": "code",
   "execution_count": 236,
   "metadata": {},
   "outputs": [
    {
     "data": {
      "text/plain": [
       "STNAME\n",
       "Arizona    1.644573e+08\n",
       "Name: MME, dtype: float64"
      ]
     },
     "execution_count": 236,
     "metadata": {},
     "output_type": "execute_result"
    }
   ],
   "source": [
    "# fl shipment to Arizona before 2010\n",
    "fl_ship_az = df[df['STNAME'] == 'Arizona']\n",
    "fl_ship_az1 = fl_ship_az[fl_ship_az['YEAR']<= 2010]\n",
    "fl_ship_az1.groupby('STNAME')['MME'].mean()"
   ]
  },
  {
   "cell_type": "code",
   "execution_count": 237,
   "metadata": {},
   "outputs": [
    {
     "data": {
      "text/plain": [
       "STNAME\n",
       "Arizona    2.353518e+08\n",
       "Name: MME, dtype: float64"
      ]
     },
     "execution_count": 237,
     "metadata": {},
     "output_type": "execute_result"
    }
   ],
   "source": [
    "# fl shipment to Arizona after 2010\n",
    "fl_ship_az2 = fl_ship_az[fl_ship_az['YEAR']> 2010]\n",
    "fl_ship_az2.groupby('STNAME')['MME'].mean()\n"
   ]
  },
  {
   "cell_type": "code",
   "execution_count": 238,
   "metadata": {},
   "outputs": [
    {
     "data": {
      "text/plain": [
       "STNAME                      Arizona\n",
       "CTYNAME                        YUMA\n",
       "YEAR                           2010\n",
       "POPULATION                  4023132\n",
       "BUYER_COUNTY_x                 YUMA\n",
       "BUYER_STATE_x                    AZ\n",
       "FIPS Code                      4027\n",
       "State_x                     Arizona\n",
       "BUYER_STATE_y                    AZ\n",
       "BUYER_COUNTY_y                 YUMA\n",
       "MME               1784577100.201575\n",
       "State_y                     Arizona\n",
       "dtype: object"
      ]
     },
     "execution_count": 238,
     "metadata": {},
     "output_type": "execute_result"
    }
   ],
   "source": [
    "# shipment to Arizona by CTYNAME before 2010\n",
    "fl_ship_az1.groupby('CTYNAME')['MME'].mean()\n",
    "fl_ship_az1.max()"
   ]
  },
  {
   "cell_type": "code",
   "execution_count": 239,
   "metadata": {},
   "outputs": [
    {
     "data": {
      "text/plain": [
       "STNAME                      Arizona\n",
       "CTYNAME                        YUMA\n",
       "YEAR                           2014\n",
       "POPULATION                  4094842\n",
       "BUYER_COUNTY_x                 YUMA\n",
       "BUYER_STATE_x                    AZ\n",
       "FIPS Code                      4027\n",
       "State_x                     Arizona\n",
       "BUYER_STATE_y                    AZ\n",
       "BUYER_COUNTY_y                 YUMA\n",
       "MME               2114214074.404012\n",
       "State_y                     Arizona\n",
       "dtype: object"
      ]
     },
     "execution_count": 239,
     "metadata": {},
     "output_type": "execute_result"
    }
   ],
   "source": [
    "# shipment to Arizona by CTYNAME after 2010\n",
    "fl_ship_az2.groupby('CTYNAME')['MME'].mean()\n",
    "fl_ship_az2.max()"
   ]
  },
  {
   "cell_type": "code",
   "execution_count": 240,
   "metadata": {},
   "outputs": [
    {
     "data": {
      "text/plain": [
       "STNAME\n",
       "Louisiana    2.719488e+07\n",
       "Name: MME, dtype: float64"
      ]
     },
     "execution_count": 240,
     "metadata": {},
     "output_type": "execute_result"
    }
   ],
   "source": [
    "# fl shipment to Louisiana before 2010\n",
    "fl_ship_la = df[df['STNAME'] == 'Louisiana']\n",
    "fl_ship_la1 = fl_ship_la[fl_ship_la['YEAR']<= 2010]\n",
    "fl_ship_la1.groupby('STNAME')['MME'].mean()\n"
   ]
  },
  {
   "cell_type": "code",
   "execution_count": 241,
   "metadata": {},
   "outputs": [
    {
     "data": {
      "text/plain": [
       "STNAME\n",
       "Louisiana    3.126748e+07\n",
       "Name: MME, dtype: float64"
      ]
     },
     "execution_count": 241,
     "metadata": {},
     "output_type": "execute_result"
    }
   ],
   "source": [
    "# fl shipment to Louisiana after 2010\n",
    "fl_ship_la2 = fl_ship_la[fl_ship_la['YEAR']> 2010]\n",
    "fl_ship_la2.groupby('STNAME')['MME'].mean()\n"
   ]
  },
  {
   "cell_type": "code",
   "execution_count": 242,
   "metadata": {},
   "outputs": [
    {
     "data": {
      "text/plain": [
       "STNAME\n",
       "South Carolina    3.766200e+07\n",
       "Name: MME, dtype: float64"
      ]
     },
     "execution_count": 242,
     "metadata": {},
     "output_type": "execute_result"
    }
   ],
   "source": [
    "# fl shipment to South Carolina before 2010\n",
    "fl_ship_sc = df[df['STNAME'] == 'South Carolina']\n",
    "fl_ship_sc1 = fl_ship_sc[fl_ship_sc['YEAR']<= 2010]\n",
    "fl_ship_sc1.groupby('STNAME')['MME'].mean()\n"
   ]
  },
  {
   "cell_type": "code",
   "execution_count": 243,
   "metadata": {},
   "outputs": [
    {
     "data": {
      "text/plain": [
       "STNAME\n",
       "South Carolina    5.581880e+07\n",
       "Name: MME, dtype: float64"
      ]
     },
     "execution_count": 243,
     "metadata": {},
     "output_type": "execute_result"
    }
   ],
   "source": [
    "# fl shipment to South Carolina after 2010\n",
    "fl_ship_sc2 = fl_ship_sc[fl_ship_sc['YEAR']> 2010]\n",
    "fl_ship_sc2.groupby('STNAME')['MME'].mean()"
   ]
  },
  {
   "cell_type": "code",
   "execution_count": 244,
   "metadata": {},
   "outputs": [
    {
     "data": {
      "text/plain": [
       "STNAME\n",
       "Florida    1.937742e+08\n",
       "Name: MME, dtype: float64"
      ]
     },
     "execution_count": 244,
     "metadata": {},
     "output_type": "execute_result"
    }
   ],
   "source": [
    "# fl shipment to Florida before 2010\n",
    "fl_ship_fl = df[df['STNAME'] == 'Florida']\n",
    "fl_ship_fl1 = fl_ship_fl[fl_ship_fl['YEAR']<= 2010]\n",
    "fl_ship_fl1.groupby('STNAME')['MME'].mean()\n",
    "\n"
   ]
  },
  {
   "cell_type": "code",
   "execution_count": 245,
   "metadata": {},
   "outputs": [
    {
     "data": {
      "text/plain": [
       "STNAME\n",
       "Florida    1.459275e+08\n",
       "Name: MME, dtype: float64"
      ]
     },
     "execution_count": 245,
     "metadata": {},
     "output_type": "execute_result"
    }
   ],
   "source": [
    "# fl shipment to Florida after 2010\n",
    "fl_ship_fl2 = fl_ship_fl[fl_ship_fl['YEAR']> 2010]\n",
    "fl_ship_fl2.groupby('STNAME')['MME'].mean()\n"
   ]
  },
  {
   "cell_type": "code",
   "execution_count": 246,
   "metadata": {},
   "outputs": [
    {
     "data": {
      "text/plain": [
       "STNAME                      Florida\n",
       "CTYNAME                  WASHINGTON\n",
       "YEAR                           2010\n",
       "POPULATION                  2506986\n",
       "BUYER_COUNTY_x           WASHINGTON\n",
       "BUYER_STATE_x                    FL\n",
       "FIPS Code                     12133\n",
       "State_x                     Florida\n",
       "BUYER_STATE_y                    FL\n",
       "BUYER_COUNTY_y           WASHINGTON\n",
       "MME               3026736844.585425\n",
       "State_y                     Florida\n",
       "dtype: object"
      ]
     },
     "execution_count": 246,
     "metadata": {},
     "output_type": "execute_result"
    }
   ],
   "source": [
    "# shipment to Florida by CTYNAME before 2010\n",
    "fl_ship_fl1.groupby('CTYNAME')['MME'].mean()\n",
    "fl_ship_fl1.max()"
   ]
  },
  {
   "cell_type": "code",
   "execution_count": 247,
   "metadata": {},
   "outputs": [
    {
     "data": {
      "text/plain": [
       "STNAME                      Florida\n",
       "CTYNAME                  WASHINGTON\n",
       "YEAR                           2014\n",
       "POPULATION                  2634056\n",
       "BUYER_COUNTY_x           WASHINGTON\n",
       "BUYER_STATE_x                    FL\n",
       "FIPS Code                     12133\n",
       "State_x                     Florida\n",
       "BUYER_STATE_y                    FL\n",
       "BUYER_COUNTY_y           WASHINGTON\n",
       "MME               1533314549.951288\n",
       "State_y                     Florida\n",
       "dtype: object"
      ]
     },
     "execution_count": 247,
     "metadata": {},
     "output_type": "execute_result"
    }
   ],
   "source": [
    "# shipment to Florida by CTYNAME after 2010\n",
    "fl_ship_fl2.groupby('CTYNAME')['MME'].mean()\n",
    "fl_ship_fl2.max()\n",
    "\n"
   ]
  },
  {
   "cell_type": "markdown",
   "metadata": {},
   "source": [
    "### Washington--CO, AZ, NY"
   ]
  },
  {
   "cell_type": "code",
   "execution_count": 248,
   "metadata": {},
   "outputs": [
    {
     "data": {
      "text/html": [
       "<div>\n",
       "<style scoped>\n",
       "    .dataframe tbody tr th:only-of-type {\n",
       "        vertical-align: middle;\n",
       "    }\n",
       "\n",
       "    .dataframe tbody tr th {\n",
       "        vertical-align: top;\n",
       "    }\n",
       "\n",
       "    .dataframe thead th {\n",
       "        text-align: right;\n",
       "    }\n",
       "</style>\n",
       "<table border=\"1\" class=\"dataframe\">\n",
       "  <thead>\n",
       "    <tr style=\"text-align: right;\">\n",
       "      <th></th>\n",
       "      <th>BUYER_STATE</th>\n",
       "      <th>BUYER_COUNTY</th>\n",
       "      <th>YEAR</th>\n",
       "      <th>MME</th>\n",
       "      <th>FIPS Code</th>\n",
       "      <th>State</th>\n",
       "      <th>STNAME</th>\n",
       "      <th>CTYNAME</th>\n",
       "      <th>POPULATION</th>\n",
       "    </tr>\n",
       "  </thead>\n",
       "  <tbody>\n",
       "    <tr>\n",
       "      <th>0</th>\n",
       "      <td>AZ</td>\n",
       "      <td>APACHE</td>\n",
       "      <td>2006</td>\n",
       "      <td>4.956969e+06</td>\n",
       "      <td>4001</td>\n",
       "      <td>Arizona</td>\n",
       "      <td>Arizona</td>\n",
       "      <td>APACHE</td>\n",
       "      <td>69066</td>\n",
       "    </tr>\n",
       "    <tr>\n",
       "      <th>1</th>\n",
       "      <td>AZ</td>\n",
       "      <td>APACHE</td>\n",
       "      <td>2007</td>\n",
       "      <td>5.611684e+06</td>\n",
       "      <td>4001</td>\n",
       "      <td>Arizona</td>\n",
       "      <td>Arizona</td>\n",
       "      <td>APACHE</td>\n",
       "      <td>69278</td>\n",
       "    </tr>\n",
       "    <tr>\n",
       "      <th>2</th>\n",
       "      <td>AZ</td>\n",
       "      <td>APACHE</td>\n",
       "      <td>2008</td>\n",
       "      <td>5.853244e+06</td>\n",
       "      <td>4001</td>\n",
       "      <td>Arizona</td>\n",
       "      <td>Arizona</td>\n",
       "      <td>APACHE</td>\n",
       "      <td>69520</td>\n",
       "    </tr>\n",
       "    <tr>\n",
       "      <th>3</th>\n",
       "      <td>AZ</td>\n",
       "      <td>APACHE</td>\n",
       "      <td>2009</td>\n",
       "      <td>7.344332e+06</td>\n",
       "      <td>4001</td>\n",
       "      <td>Arizona</td>\n",
       "      <td>Arizona</td>\n",
       "      <td>APACHE</td>\n",
       "      <td>70591</td>\n",
       "    </tr>\n",
       "    <tr>\n",
       "      <th>4</th>\n",
       "      <td>AZ</td>\n",
       "      <td>APACHE</td>\n",
       "      <td>2010</td>\n",
       "      <td>7.732743e+06</td>\n",
       "      <td>4001</td>\n",
       "      <td>Arizona</td>\n",
       "      <td>Arizona</td>\n",
       "      <td>APACHE</td>\n",
       "      <td>71828</td>\n",
       "    </tr>\n",
       "  </tbody>\n",
       "</table>\n",
       "</div>"
      ],
      "text/plain": [
       "  BUYER_STATE BUYER_COUNTY  YEAR           MME  FIPS Code    State   STNAME  \\\n",
       "0          AZ       APACHE  2006  4.956969e+06       4001  Arizona  Arizona   \n",
       "1          AZ       APACHE  2007  5.611684e+06       4001  Arizona  Arizona   \n",
       "2          AZ       APACHE  2008  5.853244e+06       4001  Arizona  Arizona   \n",
       "3          AZ       APACHE  2009  7.344332e+06       4001  Arizona  Arizona   \n",
       "4          AZ       APACHE  2010  7.732743e+06       4001  Arizona  Arizona   \n",
       "\n",
       "  CTYNAME  POPULATION  \n",
       "0  APACHE       69066  \n",
       "1  APACHE       69278  \n",
       "2  APACHE       69520  \n",
       "3  APACHE       70591  \n",
       "4  APACHE       71828  "
      ]
     },
     "execution_count": 248,
     "metadata": {},
     "output_type": "execute_result"
    }
   ],
   "source": [
    "url = 'https://raw.githubusercontent.com/MIDS-at-Duke/pds-2022-yellow-team/main/20_intermediate_files/wa_ship_merge.csv?token=GHSAT0AAAAAABYIEB2PPDXKA4RIQCJA72N2Y4TWYLQ'\n",
    "df_WA = pd.read_csv(url)\n",
    "df_WA.head()"
   ]
  },
  {
   "cell_type": "code",
   "execution_count": 249,
   "metadata": {},
   "outputs": [
    {
     "data": {
      "text/html": [
       "<div>\n",
       "<style scoped>\n",
       "    .dataframe tbody tr th:only-of-type {\n",
       "        vertical-align: middle;\n",
       "    }\n",
       "\n",
       "    .dataframe tbody tr th {\n",
       "        vertical-align: top;\n",
       "    }\n",
       "\n",
       "    .dataframe thead th {\n",
       "        text-align: right;\n",
       "    }\n",
       "</style>\n",
       "<table border=\"1\" class=\"dataframe\">\n",
       "  <thead>\n",
       "    <tr style=\"text-align: right;\">\n",
       "      <th></th>\n",
       "      <th>count</th>\n",
       "      <th>mean</th>\n",
       "      <th>std</th>\n",
       "      <th>min</th>\n",
       "      <th>25%</th>\n",
       "      <th>50%</th>\n",
       "      <th>75%</th>\n",
       "      <th>max</th>\n",
       "    </tr>\n",
       "    <tr>\n",
       "      <th>BUYER_STATE</th>\n",
       "      <th></th>\n",
       "      <th></th>\n",
       "      <th></th>\n",
       "      <th></th>\n",
       "      <th></th>\n",
       "      <th></th>\n",
       "      <th></th>\n",
       "      <th></th>\n",
       "    </tr>\n",
       "  </thead>\n",
       "  <tbody>\n",
       "    <tr>\n",
       "      <th>Comparison_State</th>\n",
       "      <td>1219.0</td>\n",
       "      <td>73096665.97</td>\n",
       "      <td>1.851588e+08</td>\n",
       "      <td>242.16</td>\n",
       "      <td>5070708.75</td>\n",
       "      <td>16678279.11</td>\n",
       "      <td>55783699.52</td>\n",
       "      <td>2.114214e+09</td>\n",
       "    </tr>\n",
       "    <tr>\n",
       "      <th>WA</th>\n",
       "      <td>351.0</td>\n",
       "      <td>61484989.38</td>\n",
       "      <td>1.135400e+08</td>\n",
       "      <td>761058.52</td>\n",
       "      <td>7347821.67</td>\n",
       "      <td>20319301.58</td>\n",
       "      <td>51758630.42</td>\n",
       "      <td>6.469564e+08</td>\n",
       "    </tr>\n",
       "  </tbody>\n",
       "</table>\n",
       "</div>"
      ],
      "text/plain": [
       "                   count         mean           std        min         25%  \\\n",
       "BUYER_STATE                                                                  \n",
       "Comparison_State  1219.0  73096665.97  1.851588e+08     242.16  5070708.75   \n",
       "WA                 351.0  61484989.38  1.135400e+08  761058.52  7347821.67   \n",
       "\n",
       "                          50%          75%           max  \n",
       "BUYER_STATE                                               \n",
       "Comparison_State  16678279.11  55783699.52  2.114214e+09  \n",
       "WA                20319301.58  51758630.42  6.469564e+08  "
      ]
     },
     "execution_count": 249,
     "metadata": {},
     "output_type": "execute_result"
    }
   ],
   "source": [
    "df2 = df_WA.copy()\n",
    "df2['BUYER_STATE']=df2['BUYER_STATE'].replace(['CO','AZ','NY'],'Comparison_State')\n",
    "df2['BUYER_STATE'].value_counts()\n",
    "round(df2.groupby('BUYER_STATE')['MME'].describe(),2)"
   ]
  },
  {
   "cell_type": "code",
   "execution_count": 250,
   "metadata": {},
   "outputs": [
    {
     "data": {
      "text/plain": [
       "STNAME\n",
       "Colorado    2.544277e+07\n",
       "Name: MME, dtype: float64"
      ]
     },
     "execution_count": 250,
     "metadata": {},
     "output_type": "execute_result"
    }
   ],
   "source": [
    "# wa shipment to CO before 2012\n",
    "wa_ship_co = df_WA[df_WA['STNAME'] == 'Colorado']\n",
    "wa_ship_co1 = wa_ship_co[wa_ship_co['YEAR']<= 2012]\n",
    "wa_ship_co1.groupby('STNAME')['MME'].mean()\n"
   ]
  },
  {
   "cell_type": "code",
   "execution_count": 251,
   "metadata": {},
   "outputs": [
    {
     "data": {
      "text/plain": [
       "STNAME\n",
       "Colorado    3.000596e+07\n",
       "Name: MME, dtype: float64"
      ]
     },
     "execution_count": 251,
     "metadata": {},
     "output_type": "execute_result"
    }
   ],
   "source": [
    "# wa shipment to CO after 2012\n",
    "wa_ship_co2 = wa_ship_co[wa_ship_co['YEAR']> 2012]\n",
    "wa_ship_co2.groupby('STNAME')['MME'].mean()"
   ]
  },
  {
   "cell_type": "code",
   "execution_count": 252,
   "metadata": {},
   "outputs": [
    {
     "data": {
      "text/plain": [
       "STNAME\n",
       "Arizona    1.853882e+08\n",
       "Name: MME, dtype: float64"
      ]
     },
     "execution_count": 252,
     "metadata": {},
     "output_type": "execute_result"
    }
   ],
   "source": [
    "# wa shipment to AZ before 2012\n",
    "wa_ship_az = df_WA[df_WA['STNAME'] == 'Arizona']\n",
    "wa_ship_az1 = wa_ship_az[wa_ship_az['YEAR']<= 2012]\n",
    "wa_ship_az1.groupby('STNAME')['MME'].mean()\n"
   ]
  },
  {
   "cell_type": "code",
   "execution_count": 253,
   "metadata": {},
   "outputs": [
    {
     "data": {
      "text/plain": [
       "STNAME\n",
       "Arizona    2.329883e+08\n",
       "Name: MME, dtype: float64"
      ]
     },
     "execution_count": 253,
     "metadata": {},
     "output_type": "execute_result"
    }
   ],
   "source": [
    "# wa shipment to AZ after 2012\n",
    "wa_ship_az2 = wa_ship_az[wa_ship_az['YEAR']> 2012]\n",
    "wa_ship_az2.groupby('STNAME')['MME'].mean()\n"
   ]
  },
  {
   "cell_type": "code",
   "execution_count": 254,
   "metadata": {},
   "outputs": [
    {
     "data": {
      "text/plain": [
       "STNAME\n",
       "New York    8.480298e+07\n",
       "Name: MME, dtype: float64"
      ]
     },
     "execution_count": 254,
     "metadata": {},
     "output_type": "execute_result"
    }
   ],
   "source": [
    "# wa shipment to NY before 2012\n",
    "wa_ship_ny = df_WA[df_WA['STNAME'] == 'New York']\n",
    "wa_ship_ny1 = wa_ship_ny[wa_ship_ny['YEAR']<= 2012]\n",
    "wa_ship_ny1.groupby('STNAME')['MME'].mean()\n"
   ]
  },
  {
   "cell_type": "code",
   "execution_count": 255,
   "metadata": {},
   "outputs": [
    {
     "data": {
      "text/plain": [
       "BUYER_STATE                   NY\n",
       "BUYER_COUNTY               YATES\n",
       "YEAR                        2012\n",
       "MME             767117238.708112\n",
       "FIPS Code                  36123\n",
       "State                   New York\n",
       "STNAME                  New York\n",
       "CTYNAME                    YATES\n",
       "POPULATION               2568538\n",
       "dtype: object"
      ]
     },
     "execution_count": 255,
     "metadata": {},
     "output_type": "execute_result"
    }
   ],
   "source": [
    "# shipment to NY by CTYNAME before 2012\n",
    "wa_ship_ny1.groupby('CTYNAME')['MME'].mean()\n",
    "wa_ship_ny1.max()"
   ]
  },
  {
   "cell_type": "code",
   "execution_count": 256,
   "metadata": {},
   "outputs": [
    {
     "data": {
      "text/plain": [
       "STNAME\n",
       "New York    9.623149e+07\n",
       "Name: MME, dtype: float64"
      ]
     },
     "execution_count": 256,
     "metadata": {},
     "output_type": "execute_result"
    }
   ],
   "source": [
    "# wa shipment to NY after 2012\n",
    "wa_ship_ny2 = wa_ship_ny[wa_ship_ny['YEAR']> 2012]\n",
    "wa_ship_ny2.groupby('STNAME')['MME'].mean()\n"
   ]
  },
  {
   "cell_type": "code",
   "execution_count": 257,
   "metadata": {},
   "outputs": [
    {
     "data": {
      "text/plain": [
       "BUYER_STATE                   NY\n",
       "BUYER_COUNTY               YATES\n",
       "YEAR                        2014\n",
       "MME             625433764.025213\n",
       "FIPS Code                  36123\n",
       "State                   New York\n",
       "STNAME                  New York\n",
       "CTYNAME                    YATES\n",
       "POPULATION               2601527\n",
       "dtype: object"
      ]
     },
     "execution_count": 257,
     "metadata": {},
     "output_type": "execute_result"
    }
   ],
   "source": [
    "# shipment to NY by CTYNAME after 2012\n",
    "wa_ship_ny2.groupby('CTYNAME')['MME'].mean()\n",
    "wa_ship_ny2.max()\n"
   ]
  },
  {
   "cell_type": "code",
   "execution_count": 258,
   "metadata": {},
   "outputs": [
    {
     "data": {
      "text/plain": [
       "STNAME\n",
       "Washington    6.116464e+07\n",
       "Name: MME, dtype: float64"
      ]
     },
     "execution_count": 258,
     "metadata": {},
     "output_type": "execute_result"
    }
   ],
   "source": [
    "# wa shipment to WA before 2012\n",
    "wa_ship_wa = df_WA[df_WA['STNAME'] == 'Washington']\n",
    "wa_ship_wa1 = wa_ship_wa[wa_ship_wa['YEAR']<= 2012]\n",
    "wa_ship_wa1.groupby('STNAME')['MME'].mean()\n"
   ]
  },
  {
   "cell_type": "code",
   "execution_count": 259,
   "metadata": {},
   "outputs": [
    {
     "data": {
      "text/plain": [
       "STNAME\n",
       "Washington    6.260623e+07\n",
       "Name: MME, dtype: float64"
      ]
     },
     "execution_count": 259,
     "metadata": {},
     "output_type": "execute_result"
    }
   ],
   "source": [
    "# wa shipment to WA after 2012\n",
    "wa_ship_wa2 = wa_ship_wa[wa_ship_wa['YEAR']> 2012]\n",
    "wa_ship_wa2.groupby('STNAME')['MME'].mean()\n"
   ]
  },
  {
   "cell_type": "markdown",
   "metadata": {},
   "source": [
    "## TX - shipment by month"
   ]
  },
  {
   "cell_type": "code",
   "execution_count": 315,
   "metadata": {},
   "outputs": [
    {
     "data": {
      "text/html": [
       "<div>\n",
       "<style scoped>\n",
       "    .dataframe tbody tr th:only-of-type {\n",
       "        vertical-align: middle;\n",
       "    }\n",
       "\n",
       "    .dataframe tbody tr th {\n",
       "        vertical-align: top;\n",
       "    }\n",
       "\n",
       "    .dataframe thead th {\n",
       "        text-align: right;\n",
       "    }\n",
       "</style>\n",
       "<table border=\"1\" class=\"dataframe\">\n",
       "  <thead>\n",
       "    <tr style=\"text-align: right;\">\n",
       "      <th></th>\n",
       "      <th>BUYER_STATE</th>\n",
       "      <th>BUYER_COUNTY</th>\n",
       "      <th>YEAR</th>\n",
       "      <th>MONTH</th>\n",
       "      <th>MME</th>\n",
       "    </tr>\n",
       "  </thead>\n",
       "  <tbody>\n",
       "    <tr>\n",
       "      <th>0</th>\n",
       "      <td>IL</td>\n",
       "      <td>ADAMS</td>\n",
       "      <td>2006</td>\n",
       "      <td>1</td>\n",
       "      <td>165410.055</td>\n",
       "    </tr>\n",
       "    <tr>\n",
       "      <th>1</th>\n",
       "      <td>IL</td>\n",
       "      <td>ADAMS</td>\n",
       "      <td>2006</td>\n",
       "      <td>2</td>\n",
       "      <td>816565.590</td>\n",
       "    </tr>\n",
       "    <tr>\n",
       "      <th>2</th>\n",
       "      <td>IL</td>\n",
       "      <td>ADAMS</td>\n",
       "      <td>2006</td>\n",
       "      <td>3</td>\n",
       "      <td>940374.650</td>\n",
       "    </tr>\n",
       "    <tr>\n",
       "      <th>3</th>\n",
       "      <td>IL</td>\n",
       "      <td>ADAMS</td>\n",
       "      <td>2006</td>\n",
       "      <td>4</td>\n",
       "      <td>877958.510</td>\n",
       "    </tr>\n",
       "    <tr>\n",
       "      <th>4</th>\n",
       "      <td>IL</td>\n",
       "      <td>ADAMS</td>\n",
       "      <td>2006</td>\n",
       "      <td>5</td>\n",
       "      <td>984764.605</td>\n",
       "    </tr>\n",
       "  </tbody>\n",
       "</table>\n",
       "</div>"
      ],
      "text/plain": [
       "  BUYER_STATE BUYER_COUNTY  YEAR  MONTH         MME\n",
       "0          IL        ADAMS  2006      1  165410.055\n",
       "1          IL        ADAMS  2006      2  816565.590\n",
       "2          IL        ADAMS  2006      3  940374.650\n",
       "3          IL        ADAMS  2006      4  877958.510\n",
       "4          IL        ADAMS  2006      5  984764.605"
      ]
     },
     "execution_count": 315,
     "metadata": {},
     "output_type": "execute_result"
    }
   ],
   "source": [
    "url = 'https://raw.githubusercontent.com/MIDS-at-Duke/pds-2022-yellow-team/main/20_intermediate_files/texas_shipment_cleaned.csv?token=GHSAT0AAAAAABYIEB2ODJLUMXBJHQWRDBFOY4T34JA'\n",
    "df_tx = pd.read_csv(url)\n",
    "df_tx.head()"
   ]
  },
  {
   "cell_type": "code",
   "execution_count": 316,
   "metadata": {},
   "outputs": [
    {
     "data": {
      "text/html": [
       "<div>\n",
       "<style scoped>\n",
       "    .dataframe tbody tr th:only-of-type {\n",
       "        vertical-align: middle;\n",
       "    }\n",
       "\n",
       "    .dataframe tbody tr th {\n",
       "        vertical-align: top;\n",
       "    }\n",
       "\n",
       "    .dataframe thead th {\n",
       "        text-align: right;\n",
       "    }\n",
       "</style>\n",
       "<table border=\"1\" class=\"dataframe\">\n",
       "  <thead>\n",
       "    <tr style=\"text-align: right;\">\n",
       "      <th></th>\n",
       "      <th>count</th>\n",
       "      <th>mean</th>\n",
       "      <th>std</th>\n",
       "      <th>min</th>\n",
       "      <th>25%</th>\n",
       "      <th>50%</th>\n",
       "      <th>75%</th>\n",
       "      <th>max</th>\n",
       "    </tr>\n",
       "    <tr>\n",
       "      <th>BUYER_STATE</th>\n",
       "      <th></th>\n",
       "      <th></th>\n",
       "      <th></th>\n",
       "      <th></th>\n",
       "      <th></th>\n",
       "      <th></th>\n",
       "      <th></th>\n",
       "      <th></th>\n",
       "    </tr>\n",
       "  </thead>\n",
       "  <tbody>\n",
       "    <tr>\n",
       "      <th>Comparison_State</th>\n",
       "      <td>21214.0</td>\n",
       "      <td>3837451.12</td>\n",
       "      <td>8730708.23</td>\n",
       "      <td>18.16</td>\n",
       "      <td>285781.36</td>\n",
       "      <td>971152.28</td>\n",
       "      <td>2690345.39</td>\n",
       "      <td>8.549806e+07</td>\n",
       "    </tr>\n",
       "    <tr>\n",
       "      <th>TX</th>\n",
       "      <td>24042.0</td>\n",
       "      <td>1945605.54</td>\n",
       "      <td>7160816.91</td>\n",
       "      <td>60.54</td>\n",
       "      <td>99853.25</td>\n",
       "      <td>310666.88</td>\n",
       "      <td>1179114.07</td>\n",
       "      <td>1.192512e+08</td>\n",
       "    </tr>\n",
       "  </tbody>\n",
       "</table>\n",
       "</div>"
      ],
      "text/plain": [
       "                    count        mean         std    min        25%  \\\n",
       "BUYER_STATE                                                           \n",
       "Comparison_State  21214.0  3837451.12  8730708.23  18.16  285781.36   \n",
       "TX                24042.0  1945605.54  7160816.91  60.54   99853.25   \n",
       "\n",
       "                        50%         75%           max  \n",
       "BUYER_STATE                                            \n",
       "Comparison_State  971152.28  2690345.39  8.549806e+07  \n",
       "TX                310666.88  1179114.07  1.192512e+08  "
      ]
     },
     "execution_count": 316,
     "metadata": {},
     "output_type": "execute_result"
    }
   ],
   "source": [
    "df2 = df_tx.copy()\n",
    "df2['BUYER_STATE']=df2['BUYER_STATE'].replace(['IL','OR','NY'],'Comparison_State')\n",
    "df2['BUYER_STATE'].value_counts()\n",
    "round(df2.groupby('BUYER_STATE')['MME'].describe(),2)"
   ]
  },
  {
   "cell_type": "markdown",
   "metadata": {},
   "source": [
    "## Death"
   ]
  },
  {
   "cell_type": "markdown",
   "metadata": {},
   "source": [
    "### Florida-LA,NV,CO"
   ]
  },
  {
   "cell_type": "code",
   "execution_count": 260,
   "metadata": {},
   "outputs": [
    {
     "data": {
      "text/html": [
       "<div>\n",
       "<style scoped>\n",
       "    .dataframe tbody tr th:only-of-type {\n",
       "        vertical-align: middle;\n",
       "    }\n",
       "\n",
       "    .dataframe tbody tr th {\n",
       "        vertical-align: top;\n",
       "    }\n",
       "\n",
       "    .dataframe thead th {\n",
       "        text-align: right;\n",
       "    }\n",
       "</style>\n",
       "<table border=\"1\" class=\"dataframe\">\n",
       "  <thead>\n",
       "    <tr style=\"text-align: right;\">\n",
       "      <th></th>\n",
       "      <th>YEAR</th>\n",
       "      <th>STNAME</th>\n",
       "      <th>CTYNAME</th>\n",
       "      <th>Death Rate (%)</th>\n",
       "      <th>POPULATION</th>\n",
       "      <th>Indicator</th>\n",
       "    </tr>\n",
       "  </thead>\n",
       "  <tbody>\n",
       "    <tr>\n",
       "      <th>0</th>\n",
       "      <td>2003</td>\n",
       "      <td>Colorado</td>\n",
       "      <td>Adams County</td>\n",
       "      <td>0.011088</td>\n",
       "      <td>378785</td>\n",
       "      <td>Control</td>\n",
       "    </tr>\n",
       "    <tr>\n",
       "      <th>1</th>\n",
       "      <td>2003</td>\n",
       "      <td>Colorado</td>\n",
       "      <td>Alamosa County</td>\n",
       "      <td>0.009527</td>\n",
       "      <td>15125</td>\n",
       "      <td>Control</td>\n",
       "    </tr>\n",
       "    <tr>\n",
       "      <th>2</th>\n",
       "      <td>2003</td>\n",
       "      <td>Colorado</td>\n",
       "      <td>Arapahoe County</td>\n",
       "      <td>0.008748</td>\n",
       "      <td>514406</td>\n",
       "      <td>Control</td>\n",
       "    </tr>\n",
       "    <tr>\n",
       "      <th>3</th>\n",
       "      <td>2003</td>\n",
       "      <td>Colorado</td>\n",
       "      <td>Archuleta County</td>\n",
       "      <td>0.009527</td>\n",
       "      <td>11167</td>\n",
       "      <td>Control</td>\n",
       "    </tr>\n",
       "    <tr>\n",
       "      <th>4</th>\n",
       "      <td>2003</td>\n",
       "      <td>Colorado</td>\n",
       "      <td>Baca County</td>\n",
       "      <td>0.009527</td>\n",
       "      <td>4106</td>\n",
       "      <td>Control</td>\n",
       "    </tr>\n",
       "  </tbody>\n",
       "</table>\n",
       "</div>"
      ],
      "text/plain": [
       "   YEAR    STNAME           CTYNAME  Death Rate (%)  POPULATION Indicator\n",
       "0  2003  Colorado      Adams County        0.011088      378785   Control\n",
       "1  2003  Colorado    Alamosa County        0.009527       15125   Control\n",
       "2  2003  Colorado   Arapahoe County        0.008748      514406   Control\n",
       "3  2003  Colorado  Archuleta County        0.009527       11167   Control\n",
       "4  2003  Colorado       Baca County        0.009527        4106   Control"
      ]
     },
     "execution_count": 260,
     "metadata": {},
     "output_type": "execute_result"
    }
   ],
   "source": [
    "url = 'https://raw.githubusercontent.com/MIDS-at-Duke/pds-2022-yellow-team/main/20_intermediate_files/florida_death_cleaned.csv?token=GHSAT0AAAAAABYIEB2OUYVJKLRL6RKNRWACY4TWZ3A'\n",
    "DE_fl = pd.read_csv(url)\n",
    "DE_fl.head()"
   ]
  },
  {
   "cell_type": "code",
   "execution_count": 261,
   "metadata": {},
   "outputs": [
    {
     "data": {
      "text/html": [
       "<div>\n",
       "<style scoped>\n",
       "    .dataframe tbody tr th:only-of-type {\n",
       "        vertical-align: middle;\n",
       "    }\n",
       "\n",
       "    .dataframe tbody tr th {\n",
       "        vertical-align: top;\n",
       "    }\n",
       "\n",
       "    .dataframe thead th {\n",
       "        text-align: right;\n",
       "    }\n",
       "</style>\n",
       "<table border=\"1\" class=\"dataframe\">\n",
       "  <thead>\n",
       "    <tr style=\"text-align: right;\">\n",
       "      <th></th>\n",
       "      <th>count</th>\n",
       "      <th>mean</th>\n",
       "      <th>std</th>\n",
       "      <th>min</th>\n",
       "      <th>25%</th>\n",
       "      <th>50%</th>\n",
       "      <th>75%</th>\n",
       "      <th>max</th>\n",
       "    </tr>\n",
       "    <tr>\n",
       "      <th>STNAME</th>\n",
       "      <th></th>\n",
       "      <th></th>\n",
       "      <th></th>\n",
       "      <th></th>\n",
       "      <th></th>\n",
       "      <th></th>\n",
       "      <th></th>\n",
       "      <th></th>\n",
       "    </tr>\n",
       "  </thead>\n",
       "  <tbody>\n",
       "    <tr>\n",
       "      <th>Comparison_State</th>\n",
       "      <td>1885.0</td>\n",
       "      <td>0.0157</td>\n",
       "      <td>0.0049</td>\n",
       "      <td>0.0034</td>\n",
       "      <td>0.0127</td>\n",
       "      <td>0.0149</td>\n",
       "      <td>0.0190</td>\n",
       "      <td>0.0783</td>\n",
       "    </tr>\n",
       "    <tr>\n",
       "      <th>Florida</th>\n",
       "      <td>871.0</td>\n",
       "      <td>0.0146</td>\n",
       "      <td>0.0046</td>\n",
       "      <td>0.0038</td>\n",
       "      <td>0.0125</td>\n",
       "      <td>0.0146</td>\n",
       "      <td>0.0165</td>\n",
       "      <td>0.0408</td>\n",
       "    </tr>\n",
       "  </tbody>\n",
       "</table>\n",
       "</div>"
      ],
      "text/plain": [
       "                   count    mean     std     min     25%     50%     75%  \\\n",
       "STNAME                                                                     \n",
       "Comparison_State  1885.0  0.0157  0.0049  0.0034  0.0127  0.0149  0.0190   \n",
       "Florida            871.0  0.0146  0.0046  0.0038  0.0125  0.0146  0.0165   \n",
       "\n",
       "                     max  \n",
       "STNAME                    \n",
       "Comparison_State  0.0783  \n",
       "Florida           0.0408  "
      ]
     },
     "execution_count": 261,
     "metadata": {},
     "output_type": "execute_result"
    }
   ],
   "source": [
    "df3 = DE_fl.copy()\n",
    "df3['STNAME']=df3['STNAME'].replace(['Louisiana','Nevada','Colorado'],'Comparison_State')\n",
    "df3['STNAME'].value_counts()\n",
    "round(df3.groupby('STNAME')['Death Rate (%)'].describe(),4)"
   ]
  },
  {
   "cell_type": "code",
   "execution_count": 262,
   "metadata": {},
   "outputs": [
    {
     "data": {
      "text/plain": [
       "STNAME\n",
       "Louisiana    0.016749\n",
       "Name: Death Rate (%), dtype: float64"
      ]
     },
     "execution_count": 262,
     "metadata": {},
     "output_type": "execute_result"
    }
   ],
   "source": [
    "# fl death in LA before 2010\n",
    "DE_fl_la = DE_fl[DE_fl['STNAME'] == 'Louisiana']\n",
    "DE_fl_la1 = DE_fl_la[DE_fl_la['YEAR']<= 2010]\n",
    "DE_fl_la1.groupby('STNAME')['Death Rate (%)'].mean()"
   ]
  },
  {
   "cell_type": "code",
   "execution_count": 263,
   "metadata": {},
   "outputs": [
    {
     "data": {
      "text/html": [
       "<div>\n",
       "<style scoped>\n",
       "    .dataframe tbody tr th:only-of-type {\n",
       "        vertical-align: middle;\n",
       "    }\n",
       "\n",
       "    .dataframe tbody tr th {\n",
       "        vertical-align: top;\n",
       "    }\n",
       "\n",
       "    .dataframe thead th {\n",
       "        text-align: right;\n",
       "    }\n",
       "</style>\n",
       "<table border=\"1\" class=\"dataframe\">\n",
       "  <thead>\n",
       "    <tr style=\"text-align: right;\">\n",
       "      <th></th>\n",
       "      <th>YEAR</th>\n",
       "      <th>STNAME</th>\n",
       "      <th>CTYNAME</th>\n",
       "      <th>Death Rate (%)</th>\n",
       "      <th>POPULATION</th>\n",
       "      <th>Indicator</th>\n",
       "    </tr>\n",
       "  </thead>\n",
       "  <tbody>\n",
       "    <tr>\n",
       "      <th>1746</th>\n",
       "      <td>2003</td>\n",
       "      <td>Louisiana</td>\n",
       "      <td>St. Bernard Parish</td>\n",
       "      <td>0.044122</td>\n",
       "      <td>65727</td>\n",
       "      <td>Control</td>\n",
       "    </tr>\n",
       "    <tr>\n",
       "      <th>1831</th>\n",
       "      <td>2005</td>\n",
       "      <td>Louisiana</td>\n",
       "      <td>Acadia Parish</td>\n",
       "      <td>0.039149</td>\n",
       "      <td>58750</td>\n",
       "      <td>Control</td>\n",
       "    </tr>\n",
       "    <tr>\n",
       "      <th>2066</th>\n",
       "      <td>2008</td>\n",
       "      <td>Louisiana</td>\n",
       "      <td>St. Bernard Parish</td>\n",
       "      <td>0.034511</td>\n",
       "      <td>37669</td>\n",
       "      <td>Control</td>\n",
       "    </tr>\n",
       "  </tbody>\n",
       "</table>\n",
       "</div>"
      ],
      "text/plain": [
       "      YEAR     STNAME             CTYNAME  Death Rate (%)  POPULATION  \\\n",
       "1746  2003  Louisiana  St. Bernard Parish        0.044122       65727   \n",
       "1831  2005  Louisiana       Acadia Parish        0.039149       58750   \n",
       "2066  2008  Louisiana  St. Bernard Parish        0.034511       37669   \n",
       "\n",
       "     Indicator  \n",
       "1746   Control  \n",
       "1831   Control  \n",
       "2066   Control  "
      ]
     },
     "execution_count": 263,
     "metadata": {},
     "output_type": "execute_result"
    }
   ],
   "source": [
    "# death to LA by CTYNAME before 2010 top 3 county \n",
    "DE_fl_la1.groupby('CTYNAME')['Death Rate (%)'].mean()\n",
    "DE_fl_la2010 = DE_fl_la1[DE_fl_la1['YEAR'] <= 2010].sort_values(ascending=False,by='Death Rate (%)')\n",
    "DE_fl_la2010.head(3)"
   ]
  },
  {
   "cell_type": "code",
   "execution_count": 264,
   "metadata": {},
   "outputs": [
    {
     "data": {
      "text/plain": [
       "STNAME\n",
       "Louisiana    0.016692\n",
       "Name: Death Rate (%), dtype: float64"
      ]
     },
     "execution_count": 264,
     "metadata": {},
     "output_type": "execute_result"
    }
   ],
   "source": [
    "# fl death in LA after 2010\n",
    "DE_fl_la2 = DE_fl_la[DE_fl_la['YEAR']> 2010]    \n",
    "DE_fl_la2.groupby('STNAME')['Death Rate (%)'].mean()\n"
   ]
  },
  {
   "cell_type": "code",
   "execution_count": 265,
   "metadata": {},
   "outputs": [
    {
     "data": {
      "text/html": [
       "<div>\n",
       "<style scoped>\n",
       "    .dataframe tbody tr th:only-of-type {\n",
       "        vertical-align: middle;\n",
       "    }\n",
       "\n",
       "    .dataframe tbody tr th {\n",
       "        vertical-align: top;\n",
       "    }\n",
       "\n",
       "    .dataframe thead th {\n",
       "        text-align: right;\n",
       "    }\n",
       "</style>\n",
       "<table border=\"1\" class=\"dataframe\">\n",
       "  <thead>\n",
       "    <tr style=\"text-align: right;\">\n",
       "      <th></th>\n",
       "      <th>YEAR</th>\n",
       "      <th>STNAME</th>\n",
       "      <th>CTYNAME</th>\n",
       "      <th>Death Rate (%)</th>\n",
       "      <th>POPULATION</th>\n",
       "      <th>Indicator</th>\n",
       "    </tr>\n",
       "  </thead>\n",
       "  <tbody>\n",
       "    <tr>\n",
       "      <th>2529</th>\n",
       "      <td>2015</td>\n",
       "      <td>Louisiana</td>\n",
       "      <td>Washington Parish</td>\n",
       "      <td>0.038822</td>\n",
       "      <td>46365</td>\n",
       "      <td>Control</td>\n",
       "    </tr>\n",
       "    <tr>\n",
       "      <th>2386</th>\n",
       "      <td>2013</td>\n",
       "      <td>Louisiana</td>\n",
       "      <td>St. Bernard Parish</td>\n",
       "      <td>0.034526</td>\n",
       "      <td>43446</td>\n",
       "      <td>Control</td>\n",
       "    </tr>\n",
       "    <tr>\n",
       "      <th>2502</th>\n",
       "      <td>2015</td>\n",
       "      <td>Louisiana</td>\n",
       "      <td>Livingston Parish</td>\n",
       "      <td>0.034256</td>\n",
       "      <td>137202</td>\n",
       "      <td>Control</td>\n",
       "    </tr>\n",
       "  </tbody>\n",
       "</table>\n",
       "</div>"
      ],
      "text/plain": [
       "      YEAR     STNAME             CTYNAME  Death Rate (%)  POPULATION  \\\n",
       "2529  2015  Louisiana   Washington Parish        0.038822       46365   \n",
       "2386  2013  Louisiana  St. Bernard Parish        0.034526       43446   \n",
       "2502  2015  Louisiana   Livingston Parish        0.034256      137202   \n",
       "\n",
       "     Indicator  \n",
       "2529   Control  \n",
       "2386   Control  \n",
       "2502   Control  "
      ]
     },
     "execution_count": 265,
     "metadata": {},
     "output_type": "execute_result"
    }
   ],
   "source": [
    "# death to LA by CTYNAME after 2010 top 3 county \n",
    "DE_fl_la2.groupby('CTYNAME')['Death Rate (%)'].mean()\n",
    "DE_fl_la_after_2010 = DE_fl_la2[DE_fl_la2['YEAR'] > 2010].sort_values(ascending=False,by='Death Rate (%)')\n",
    "DE_fl_la_after_2010.head(3)"
   ]
  },
  {
   "cell_type": "code",
   "execution_count": 266,
   "metadata": {},
   "outputs": [
    {
     "data": {
      "text/html": [
       "<div>\n",
       "<style scoped>\n",
       "    .dataframe tbody tr th:only-of-type {\n",
       "        vertical-align: middle;\n",
       "    }\n",
       "\n",
       "    .dataframe tbody tr th {\n",
       "        vertical-align: top;\n",
       "    }\n",
       "\n",
       "    .dataframe thead th {\n",
       "        text-align: right;\n",
       "    }\n",
       "</style>\n",
       "<table border=\"1\" class=\"dataframe\">\n",
       "  <thead>\n",
       "    <tr style=\"text-align: right;\">\n",
       "      <th></th>\n",
       "      <th>YEAR</th>\n",
       "      <th>STNAME</th>\n",
       "      <th>CTYNAME</th>\n",
       "      <th>Death Rate (%)</th>\n",
       "      <th>POPULATION</th>\n",
       "      <th>Indicator</th>\n",
       "    </tr>\n",
       "  </thead>\n",
       "  <tbody>\n",
       "    <tr>\n",
       "      <th>2529</th>\n",
       "      <td>2015</td>\n",
       "      <td>Louisiana</td>\n",
       "      <td>Washington Parish</td>\n",
       "      <td>0.038822</td>\n",
       "      <td>46365</td>\n",
       "      <td>Control</td>\n",
       "    </tr>\n",
       "    <tr>\n",
       "      <th>2386</th>\n",
       "      <td>2013</td>\n",
       "      <td>Louisiana</td>\n",
       "      <td>St. Bernard Parish</td>\n",
       "      <td>0.034526</td>\n",
       "      <td>43446</td>\n",
       "      <td>Control</td>\n",
       "    </tr>\n",
       "    <tr>\n",
       "      <th>2502</th>\n",
       "      <td>2015</td>\n",
       "      <td>Louisiana</td>\n",
       "      <td>Livingston Parish</td>\n",
       "      <td>0.034256</td>\n",
       "      <td>137202</td>\n",
       "      <td>Control</td>\n",
       "    </tr>\n",
       "  </tbody>\n",
       "</table>\n",
       "</div>"
      ],
      "text/plain": [
       "      YEAR     STNAME             CTYNAME  Death Rate (%)  POPULATION  \\\n",
       "2529  2015  Louisiana   Washington Parish        0.038822       46365   \n",
       "2386  2013  Louisiana  St. Bernard Parish        0.034526       43446   \n",
       "2502  2015  Louisiana   Livingston Parish        0.034256      137202   \n",
       "\n",
       "     Indicator  \n",
       "2529   Control  \n",
       "2386   Control  \n",
       "2502   Control  "
      ]
     },
     "execution_count": 266,
     "metadata": {},
     "output_type": "execute_result"
    }
   ],
   "source": [
    "# death to LA by CTYNAME after 2010 top 3 county\n",
    "DE_fl_la2015 = DE_fl_la2[DE_fl_la2['YEAR'] > 2010].sort_values(ascending=False,by='Death Rate (%)')\n",
    "DE_fl_la2015.head(3)"
   ]
  },
  {
   "cell_type": "code",
   "execution_count": 267,
   "metadata": {},
   "outputs": [
    {
     "data": {
      "text/plain": [
       "STNAME\n",
       "Nevada    0.019717\n",
       "Name: Death Rate (%), dtype: float64"
      ]
     },
     "execution_count": 267,
     "metadata": {},
     "output_type": "execute_result"
    }
   ],
   "source": [
    "# fl death in NV before 2010\n",
    "DE_fl_nv = DE_fl[DE_fl['STNAME'] == 'Nevada']\n",
    "DE_fl_nv1 = DE_fl_nv[DE_fl_nv['YEAR']<= 2010]\n",
    "DE_fl_nv1.groupby('STNAME')['Death Rate (%)'].mean()"
   ]
  },
  {
   "cell_type": "code",
   "execution_count": 268,
   "metadata": {},
   "outputs": [
    {
     "data": {
      "text/html": [
       "<div>\n",
       "<style scoped>\n",
       "    .dataframe tbody tr th:only-of-type {\n",
       "        vertical-align: middle;\n",
       "    }\n",
       "\n",
       "    .dataframe tbody tr th {\n",
       "        vertical-align: top;\n",
       "    }\n",
       "\n",
       "    .dataframe thead th {\n",
       "        text-align: right;\n",
       "    }\n",
       "</style>\n",
       "<table border=\"1\" class=\"dataframe\">\n",
       "  <thead>\n",
       "    <tr style=\"text-align: right;\">\n",
       "      <th></th>\n",
       "      <th>YEAR</th>\n",
       "      <th>STNAME</th>\n",
       "      <th>CTYNAME</th>\n",
       "      <th>Death Rate (%)</th>\n",
       "      <th>POPULATION</th>\n",
       "      <th>Indicator</th>\n",
       "    </tr>\n",
       "  </thead>\n",
       "  <tbody>\n",
       "    <tr>\n",
       "      <th>2665</th>\n",
       "      <td>2010</td>\n",
       "      <td>Nevada</td>\n",
       "      <td>Nye County</td>\n",
       "      <td>0.038770</td>\n",
       "      <td>43848</td>\n",
       "      <td>Control</td>\n",
       "    </tr>\n",
       "    <tr>\n",
       "      <th>2670</th>\n",
       "      <td>2010</td>\n",
       "      <td>Nevada</td>\n",
       "      <td>Carson City</td>\n",
       "      <td>0.025651</td>\n",
       "      <td>54983</td>\n",
       "      <td>Control</td>\n",
       "    </tr>\n",
       "    <tr>\n",
       "      <th>2662</th>\n",
       "      <td>2010</td>\n",
       "      <td>Nevada</td>\n",
       "      <td>Lincoln County</td>\n",
       "      <td>0.025651</td>\n",
       "      <td>5351</td>\n",
       "      <td>Control</td>\n",
       "    </tr>\n",
       "  </tbody>\n",
       "</table>\n",
       "</div>"
      ],
      "text/plain": [
       "      YEAR  STNAME         CTYNAME  Death Rate (%)  POPULATION Indicator\n",
       "2665  2010  Nevada      Nye County        0.038770       43848   Control\n",
       "2670  2010  Nevada     Carson City        0.025651       54983   Control\n",
       "2662  2010  Nevada  Lincoln County        0.025651        5351   Control"
      ]
     },
     "execution_count": 268,
     "metadata": {},
     "output_type": "execute_result"
    }
   ],
   "source": [
    "# death to NV by CTYNAME before 2010 top 3 county \n",
    "DE_fl_nv1.groupby('CTYNAME')['Death Rate (%)'].mean()\n",
    "DE_fl_nv2010 = DE_fl_nv1[DE_fl_nv1['YEAR'] <= 2010].sort_values(ascending=False,by='Death Rate (%)')\n",
    "DE_fl_nv2010.head(3)"
   ]
  },
  {
   "cell_type": "code",
   "execution_count": 269,
   "metadata": {},
   "outputs": [
    {
     "data": {
      "text/plain": [
       "STNAME\n",
       "Nevada    0.023963\n",
       "Name: Death Rate (%), dtype: float64"
      ]
     },
     "execution_count": 269,
     "metadata": {},
     "output_type": "execute_result"
    }
   ],
   "source": [
    "# fl death in NV after 2010\n",
    "DE_fl_nv = DE_fl[DE_fl['STNAME'] == 'Nevada']\n",
    "DE_fl_nv2 = DE_fl_nv[DE_fl_nv['YEAR']> 2010]\n",
    "DE_fl_nv2.groupby('STNAME')['Death Rate (%)'].mean()"
   ]
  },
  {
   "cell_type": "code",
   "execution_count": 270,
   "metadata": {},
   "outputs": [
    {
     "data": {
      "text/html": [
       "<div>\n",
       "<style scoped>\n",
       "    .dataframe tbody tr th:only-of-type {\n",
       "        vertical-align: middle;\n",
       "    }\n",
       "\n",
       "    .dataframe tbody tr th {\n",
       "        vertical-align: top;\n",
       "    }\n",
       "\n",
       "    .dataframe thead th {\n",
       "        text-align: right;\n",
       "    }\n",
       "</style>\n",
       "<table border=\"1\" class=\"dataframe\">\n",
       "  <thead>\n",
       "    <tr style=\"text-align: right;\">\n",
       "      <th></th>\n",
       "      <th>YEAR</th>\n",
       "      <th>STNAME</th>\n",
       "      <th>CTYNAME</th>\n",
       "      <th>Death Rate (%)</th>\n",
       "      <th>POPULATION</th>\n",
       "      <th>Indicator</th>\n",
       "    </tr>\n",
       "  </thead>\n",
       "  <tbody>\n",
       "    <tr>\n",
       "      <th>2755</th>\n",
       "      <td>2015</td>\n",
       "      <td>Nevada</td>\n",
       "      <td>Carson City</td>\n",
       "      <td>0.044320</td>\n",
       "      <td>54152</td>\n",
       "      <td>Control</td>\n",
       "    </tr>\n",
       "    <tr>\n",
       "      <th>2750</th>\n",
       "      <td>2015</td>\n",
       "      <td>Nevada</td>\n",
       "      <td>Nye County</td>\n",
       "      <td>0.034877</td>\n",
       "      <td>43008</td>\n",
       "      <td>Control</td>\n",
       "    </tr>\n",
       "    <tr>\n",
       "      <th>2745</th>\n",
       "      <td>2015</td>\n",
       "      <td>Nevada</td>\n",
       "      <td>Humboldt County</td>\n",
       "      <td>0.029728</td>\n",
       "      <td>17033</td>\n",
       "      <td>Control</td>\n",
       "    </tr>\n",
       "  </tbody>\n",
       "</table>\n",
       "</div>"
      ],
      "text/plain": [
       "      YEAR  STNAME          CTYNAME  Death Rate (%)  POPULATION Indicator\n",
       "2755  2015  Nevada      Carson City        0.044320       54152   Control\n",
       "2750  2015  Nevada       Nye County        0.034877       43008   Control\n",
       "2745  2015  Nevada  Humboldt County        0.029728       17033   Control"
      ]
     },
     "execution_count": 270,
     "metadata": {},
     "output_type": "execute_result"
    }
   ],
   "source": [
    "# death to NV by CTYNAME after 2010 top 3 county \n",
    "DE_fl_nv_after_2010 = DE_fl_nv2[DE_fl_nv2['YEAR'] >2010].sort_values(ascending=False,by='Death Rate (%)')\n",
    "DE_fl_nv_after_2010.head(3)"
   ]
  },
  {
   "cell_type": "code",
   "execution_count": 271,
   "metadata": {},
   "outputs": [
    {
     "data": {
      "text/plain": [
       "STNAME\n",
       "Colorado    0.011744\n",
       "Name: Death Rate (%), dtype: float64"
      ]
     },
     "execution_count": 271,
     "metadata": {},
     "output_type": "execute_result"
    }
   ],
   "source": [
    "# fl death in CO before 2010\n",
    "DE_fl_co = DE_fl[DE_fl['STNAME'] == 'Colorado']\n",
    "DE_fl_co1 = DE_fl_co[DE_fl_co['YEAR']<= 2010]\n",
    "DE_fl_co1.groupby('STNAME')['Death Rate (%)'].mean()"
   ]
  },
  {
   "cell_type": "code",
   "execution_count": 272,
   "metadata": {},
   "outputs": [
    {
     "data": {
      "text/html": [
       "<div>\n",
       "<style scoped>\n",
       "    .dataframe tbody tr th:only-of-type {\n",
       "        vertical-align: middle;\n",
       "    }\n",
       "\n",
       "    .dataframe tbody tr th {\n",
       "        vertical-align: top;\n",
       "    }\n",
       "\n",
       "    .dataframe thead th {\n",
       "        text-align: right;\n",
       "    }\n",
       "</style>\n",
       "<table border=\"1\" class=\"dataframe\">\n",
       "  <thead>\n",
       "    <tr style=\"text-align: right;\">\n",
       "      <th></th>\n",
       "      <th>YEAR</th>\n",
       "      <th>STNAME</th>\n",
       "      <th>CTYNAME</th>\n",
       "      <th>Death Rate (%)</th>\n",
       "      <th>POPULATION</th>\n",
       "      <th>Indicator</th>\n",
       "    </tr>\n",
       "  </thead>\n",
       "  <tbody>\n",
       "    <tr>\n",
       "      <th>336</th>\n",
       "      <td>2008</td>\n",
       "      <td>Colorado</td>\n",
       "      <td>Denver County</td>\n",
       "      <td>0.028664</td>\n",
       "      <td>593086</td>\n",
       "      <td>Control</td>\n",
       "    </tr>\n",
       "    <tr>\n",
       "      <th>400</th>\n",
       "      <td>2009</td>\n",
       "      <td>Colorado</td>\n",
       "      <td>Denver County</td>\n",
       "      <td>0.026215</td>\n",
       "      <td>610345</td>\n",
       "      <td>Control</td>\n",
       "    </tr>\n",
       "    <tr>\n",
       "      <th>272</th>\n",
       "      <td>2007</td>\n",
       "      <td>Colorado</td>\n",
       "      <td>Denver County</td>\n",
       "      <td>0.025571</td>\n",
       "      <td>578789</td>\n",
       "      <td>Control</td>\n",
       "    </tr>\n",
       "  </tbody>\n",
       "</table>\n",
       "</div>"
      ],
      "text/plain": [
       "     YEAR    STNAME        CTYNAME  Death Rate (%)  POPULATION Indicator\n",
       "336  2008  Colorado  Denver County        0.028664      593086   Control\n",
       "400  2009  Colorado  Denver County        0.026215      610345   Control\n",
       "272  2007  Colorado  Denver County        0.025571      578789   Control"
      ]
     },
     "execution_count": 272,
     "metadata": {},
     "output_type": "execute_result"
    }
   ],
   "source": [
    "# death to NV by CTYNAME before 2010 top 3 county \n",
    "DE_fl_co1.groupby('CTYNAME')['Death Rate (%)'].mean()\n",
    "DE_fl_co2010 = DE_fl_co1[DE_fl_co1['YEAR'] <= 2010].sort_values(ascending=False,by='Death Rate (%)')\n",
    "DE_fl_co2010.head(3)"
   ]
  },
  {
   "cell_type": "code",
   "execution_count": 273,
   "metadata": {},
   "outputs": [
    {
     "data": {
      "text/plain": [
       "STNAME\n",
       "Colorado    0.015727\n",
       "Name: Death Rate (%), dtype: float64"
      ]
     },
     "execution_count": 273,
     "metadata": {},
     "output_type": "execute_result"
    }
   ],
   "source": [
    "# fl death in CO after 2010\n",
    "DE_fl_co = DE_fl[DE_fl['STNAME'] == 'Colorado']\n",
    "DE_fl_co2 = DE_fl_co[DE_fl_co['YEAR']> 2010]\n",
    "DE_fl_co2.groupby('STNAME')['Death Rate (%)'].mean()"
   ]
  },
  {
   "cell_type": "code",
   "execution_count": 274,
   "metadata": {},
   "outputs": [
    {
     "data": {
      "text/html": [
       "<div>\n",
       "<style scoped>\n",
       "    .dataframe tbody tr th:only-of-type {\n",
       "        vertical-align: middle;\n",
       "    }\n",
       "\n",
       "    .dataframe tbody tr th {\n",
       "        vertical-align: top;\n",
       "    }\n",
       "\n",
       "    .dataframe thead th {\n",
       "        text-align: right;\n",
       "    }\n",
       "</style>\n",
       "<table border=\"1\" class=\"dataframe\">\n",
       "  <thead>\n",
       "    <tr style=\"text-align: right;\">\n",
       "      <th></th>\n",
       "      <th>YEAR</th>\n",
       "      <th>STNAME</th>\n",
       "      <th>CTYNAME</th>\n",
       "      <th>Death Rate (%)</th>\n",
       "      <th>POPULATION</th>\n",
       "      <th>Indicator</th>\n",
       "    </tr>\n",
       "  </thead>\n",
       "  <tbody>\n",
       "    <tr>\n",
       "      <th>804</th>\n",
       "      <td>2015</td>\n",
       "      <td>Colorado</td>\n",
       "      <td>Las Animas County</td>\n",
       "      <td>0.078303</td>\n",
       "      <td>14048</td>\n",
       "      <td>Control</td>\n",
       "    </tr>\n",
       "    <tr>\n",
       "      <th>819</th>\n",
       "      <td>2015</td>\n",
       "      <td>Colorado</td>\n",
       "      <td>Pueblo County</td>\n",
       "      <td>0.026977</td>\n",
       "      <td>163101</td>\n",
       "      <td>Control</td>\n",
       "    </tr>\n",
       "    <tr>\n",
       "      <th>528</th>\n",
       "      <td>2011</td>\n",
       "      <td>Colorado</td>\n",
       "      <td>Denver County</td>\n",
       "      <td>0.026280</td>\n",
       "      <td>620250</td>\n",
       "      <td>Control</td>\n",
       "    </tr>\n",
       "  </tbody>\n",
       "</table>\n",
       "</div>"
      ],
      "text/plain": [
       "     YEAR    STNAME            CTYNAME  Death Rate (%)  POPULATION Indicator\n",
       "804  2015  Colorado  Las Animas County        0.078303       14048   Control\n",
       "819  2015  Colorado      Pueblo County        0.026977      163101   Control\n",
       "528  2011  Colorado      Denver County        0.026280      620250   Control"
      ]
     },
     "execution_count": 274,
     "metadata": {},
     "output_type": "execute_result"
    }
   ],
   "source": [
    "# death to NV by CTYNAME after 2010 top 3 county \n",
    "DE_fl_co_after_2010 = DE_fl_co2[DE_fl_co2['YEAR'] >2010].sort_values(ascending=False,by='Death Rate (%)')\n",
    "DE_fl_co_after_2010.head(3)"
   ]
  },
  {
   "cell_type": "code",
   "execution_count": 275,
   "metadata": {},
   "outputs": [
    {
     "data": {
      "text/plain": [
       "STNAME\n",
       "Florida    0.014722\n",
       "Name: Death Rate (%), dtype: float64"
      ]
     },
     "execution_count": 275,
     "metadata": {},
     "output_type": "execute_result"
    }
   ],
   "source": [
    "# fl death in fl before 2010\n",
    "DE_fl_fl = DE_fl[DE_fl['STNAME'] == 'Florida']\n",
    "DE_fl_fl1 = DE_fl_fl[DE_fl_fl['YEAR']<= 2010]\n",
    "DE_fl_fl1.groupby('STNAME')['Death Rate (%)'].mean()"
   ]
  },
  {
   "cell_type": "code",
   "execution_count": 276,
   "metadata": {},
   "outputs": [
    {
     "data": {
      "text/html": [
       "<div>\n",
       "<style scoped>\n",
       "    .dataframe tbody tr th:only-of-type {\n",
       "        vertical-align: middle;\n",
       "    }\n",
       "\n",
       "    .dataframe tbody tr th {\n",
       "        vertical-align: top;\n",
       "    }\n",
       "\n",
       "    .dataframe thead th {\n",
       "        text-align: right;\n",
       "    }\n",
       "</style>\n",
       "<table border=\"1\" class=\"dataframe\">\n",
       "  <thead>\n",
       "    <tr style=\"text-align: right;\">\n",
       "      <th></th>\n",
       "      <th>YEAR</th>\n",
       "      <th>STNAME</th>\n",
       "      <th>CTYNAME</th>\n",
       "      <th>Death Rate (%)</th>\n",
       "      <th>POPULATION</th>\n",
       "      <th>Indicator</th>\n",
       "    </tr>\n",
       "  </thead>\n",
       "  <tbody>\n",
       "    <tr>\n",
       "      <th>336</th>\n",
       "      <td>2008</td>\n",
       "      <td>Colorado</td>\n",
       "      <td>Denver County</td>\n",
       "      <td>0.028664</td>\n",
       "      <td>593086</td>\n",
       "      <td>Control</td>\n",
       "    </tr>\n",
       "    <tr>\n",
       "      <th>400</th>\n",
       "      <td>2009</td>\n",
       "      <td>Colorado</td>\n",
       "      <td>Denver County</td>\n",
       "      <td>0.026215</td>\n",
       "      <td>610345</td>\n",
       "      <td>Control</td>\n",
       "    </tr>\n",
       "    <tr>\n",
       "      <th>272</th>\n",
       "      <td>2007</td>\n",
       "      <td>Colorado</td>\n",
       "      <td>Denver County</td>\n",
       "      <td>0.025571</td>\n",
       "      <td>578789</td>\n",
       "      <td>Control</td>\n",
       "    </tr>\n",
       "  </tbody>\n",
       "</table>\n",
       "</div>"
      ],
      "text/plain": [
       "     YEAR    STNAME        CTYNAME  Death Rate (%)  POPULATION Indicator\n",
       "336  2008  Colorado  Denver County        0.028664      593086   Control\n",
       "400  2009  Colorado  Denver County        0.026215      610345   Control\n",
       "272  2007  Colorado  Denver County        0.025571      578789   Control"
      ]
     },
     "execution_count": 276,
     "metadata": {},
     "output_type": "execute_result"
    }
   ],
   "source": [
    "# death to fl by CTYNAME before 2010 top 3 county \n",
    "DE_fl_co1.groupby('CTYNAME')['Death Rate (%)'].mean()\n",
    "DE_fl_co_2010 = DE_fl_co1[DE_fl_co1['YEAR'] <= 2010].sort_values(ascending=False,by='Death Rate (%)')\n",
    "DE_fl_co_2010.head(3)"
   ]
  },
  {
   "cell_type": "code",
   "execution_count": 277,
   "metadata": {},
   "outputs": [
    {
     "data": {
      "text/plain": [
       "STNAME\n",
       "Florida    0.014469\n",
       "Name: Death Rate (%), dtype: float64"
      ]
     },
     "execution_count": 277,
     "metadata": {},
     "output_type": "execute_result"
    }
   ],
   "source": [
    "# fl death in fl after 2010\n",
    "DE_fl_fl = DE_fl[DE_fl['STNAME'] == 'Florida']\n",
    "DE_fl_fl2 = DE_fl_fl[DE_fl_fl['YEAR'] > 2010]\n",
    "DE_fl_fl2.groupby('STNAME')['Death Rate (%)'].mean()"
   ]
  },
  {
   "cell_type": "code",
   "execution_count": 278,
   "metadata": {},
   "outputs": [
    {
     "data": {
      "text/html": [
       "<div>\n",
       "<style scoped>\n",
       "    .dataframe tbody tr th:only-of-type {\n",
       "        vertical-align: middle;\n",
       "    }\n",
       "\n",
       "    .dataframe tbody tr th {\n",
       "        vertical-align: top;\n",
       "    }\n",
       "\n",
       "    .dataframe thead th {\n",
       "        text-align: right;\n",
       "    }\n",
       "</style>\n",
       "<table border=\"1\" class=\"dataframe\">\n",
       "  <thead>\n",
       "    <tr style=\"text-align: right;\">\n",
       "      <th></th>\n",
       "      <th>YEAR</th>\n",
       "      <th>STNAME</th>\n",
       "      <th>CTYNAME</th>\n",
       "      <th>Death Rate (%)</th>\n",
       "      <th>POPULATION</th>\n",
       "      <th>Indicator</th>\n",
       "    </tr>\n",
       "  </thead>\n",
       "  <tbody>\n",
       "    <tr>\n",
       "      <th>804</th>\n",
       "      <td>2015</td>\n",
       "      <td>Colorado</td>\n",
       "      <td>Las Animas County</td>\n",
       "      <td>0.078303</td>\n",
       "      <td>14048</td>\n",
       "      <td>Control</td>\n",
       "    </tr>\n",
       "    <tr>\n",
       "      <th>819</th>\n",
       "      <td>2015</td>\n",
       "      <td>Colorado</td>\n",
       "      <td>Pueblo County</td>\n",
       "      <td>0.026977</td>\n",
       "      <td>163101</td>\n",
       "      <td>Control</td>\n",
       "    </tr>\n",
       "    <tr>\n",
       "      <th>528</th>\n",
       "      <td>2011</td>\n",
       "      <td>Colorado</td>\n",
       "      <td>Denver County</td>\n",
       "      <td>0.026280</td>\n",
       "      <td>620250</td>\n",
       "      <td>Control</td>\n",
       "    </tr>\n",
       "  </tbody>\n",
       "</table>\n",
       "</div>"
      ],
      "text/plain": [
       "     YEAR    STNAME            CTYNAME  Death Rate (%)  POPULATION Indicator\n",
       "804  2015  Colorado  Las Animas County        0.078303       14048   Control\n",
       "819  2015  Colorado      Pueblo County        0.026977      163101   Control\n",
       "528  2011  Colorado      Denver County        0.026280      620250   Control"
      ]
     },
     "execution_count": 278,
     "metadata": {},
     "output_type": "execute_result"
    }
   ],
   "source": [
    "# death to fl by CTYNAME after 2010 top 3 county \n",
    "DE_fl_co2.groupby('CTYNAME')['Death Rate (%)'].mean()\n",
    "DE_fl_co_after_2010 = DE_fl_co2[DE_fl_co2['YEAR'] > 2010].sort_values(ascending=False,by='Death Rate (%)')\n",
    "DE_fl_co_after_2010.head(3)"
   ]
  },
  {
   "cell_type": "markdown",
   "metadata": {},
   "source": [
    "### Washington--OR,OK,HI"
   ]
  },
  {
   "cell_type": "code",
   "execution_count": 279,
   "metadata": {},
   "outputs": [
    {
     "data": {
      "text/html": [
       "<div>\n",
       "<style scoped>\n",
       "    .dataframe tbody tr th:only-of-type {\n",
       "        vertical-align: middle;\n",
       "    }\n",
       "\n",
       "    .dataframe tbody tr th {\n",
       "        vertical-align: top;\n",
       "    }\n",
       "\n",
       "    .dataframe thead th {\n",
       "        text-align: right;\n",
       "    }\n",
       "</style>\n",
       "<table border=\"1\" class=\"dataframe\">\n",
       "  <thead>\n",
       "    <tr style=\"text-align: right;\">\n",
       "      <th></th>\n",
       "      <th>YEAR</th>\n",
       "      <th>STNAME</th>\n",
       "      <th>CTYNAME</th>\n",
       "      <th>Death Rate (%)</th>\n",
       "      <th>POPULATION</th>\n",
       "      <th>Indicator</th>\n",
       "    </tr>\n",
       "  </thead>\n",
       "  <tbody>\n",
       "    <tr>\n",
       "      <th>0</th>\n",
       "      <td>2003</td>\n",
       "      <td>Hawaii</td>\n",
       "      <td>Hawaii County</td>\n",
       "      <td>0.007036</td>\n",
       "      <td>156340</td>\n",
       "      <td>Control</td>\n",
       "    </tr>\n",
       "    <tr>\n",
       "      <th>1</th>\n",
       "      <td>2003</td>\n",
       "      <td>Hawaii</td>\n",
       "      <td>Honolulu County</td>\n",
       "      <td>0.006982</td>\n",
       "      <td>888026</td>\n",
       "      <td>Control</td>\n",
       "    </tr>\n",
       "    <tr>\n",
       "      <th>2</th>\n",
       "      <td>2003</td>\n",
       "      <td>Hawaii</td>\n",
       "      <td>Kalawao County</td>\n",
       "      <td>0.007009</td>\n",
       "      <td>129</td>\n",
       "      <td>Control</td>\n",
       "    </tr>\n",
       "    <tr>\n",
       "      <th>3</th>\n",
       "      <td>2003</td>\n",
       "      <td>Hawaii</td>\n",
       "      <td>Kauai County</td>\n",
       "      <td>0.007009</td>\n",
       "      <td>60061</td>\n",
       "      <td>Control</td>\n",
       "    </tr>\n",
       "    <tr>\n",
       "      <th>4</th>\n",
       "      <td>2003</td>\n",
       "      <td>Hawaii</td>\n",
       "      <td>Maui County</td>\n",
       "      <td>0.007009</td>\n",
       "      <td>134742</td>\n",
       "      <td>Control</td>\n",
       "    </tr>\n",
       "  </tbody>\n",
       "</table>\n",
       "</div>"
      ],
      "text/plain": [
       "   YEAR  STNAME          CTYNAME  Death Rate (%)  POPULATION Indicator\n",
       "0  2003  Hawaii    Hawaii County        0.007036      156340   Control\n",
       "1  2003  Hawaii  Honolulu County        0.006982      888026   Control\n",
       "2  2003  Hawaii   Kalawao County        0.007009         129   Control\n",
       "3  2003  Hawaii     Kauai County        0.007009       60061   Control\n",
       "4  2003  Hawaii      Maui County        0.007009      134742   Control"
      ]
     },
     "execution_count": 279,
     "metadata": {},
     "output_type": "execute_result"
    }
   ],
   "source": [
    "url = 'https://raw.githubusercontent.com/MIDS-at-Duke/pds-2022-yellow-team/main/20_intermediate_files/washington_death_cleaned.csv?token=GHSAT0AAAAAABYIEB2PZANPNCDZX54OMEMUY4TW5AQ'\n",
    "DE_wa = pd.read_csv(url)\n",
    "DE_wa.head()"
   ]
  },
  {
   "cell_type": "code",
   "execution_count": 280,
   "metadata": {},
   "outputs": [
    {
     "data": {
      "text/html": [
       "<div>\n",
       "<style scoped>\n",
       "    .dataframe tbody tr th:only-of-type {\n",
       "        vertical-align: middle;\n",
       "    }\n",
       "\n",
       "    .dataframe tbody tr th {\n",
       "        vertical-align: top;\n",
       "    }\n",
       "\n",
       "    .dataframe thead th {\n",
       "        text-align: right;\n",
       "    }\n",
       "</style>\n",
       "<table border=\"1\" class=\"dataframe\">\n",
       "  <thead>\n",
       "    <tr style=\"text-align: right;\">\n",
       "      <th></th>\n",
       "      <th>count</th>\n",
       "      <th>mean</th>\n",
       "      <th>std</th>\n",
       "      <th>min</th>\n",
       "      <th>25%</th>\n",
       "      <th>50%</th>\n",
       "      <th>75%</th>\n",
       "      <th>max</th>\n",
       "    </tr>\n",
       "    <tr>\n",
       "      <th>STNAME</th>\n",
       "      <th></th>\n",
       "      <th></th>\n",
       "      <th></th>\n",
       "      <th></th>\n",
       "      <th></th>\n",
       "      <th></th>\n",
       "      <th></th>\n",
       "      <th></th>\n",
       "    </tr>\n",
       "  </thead>\n",
       "  <tbody>\n",
       "    <tr>\n",
       "      <th>Comparison_State</th>\n",
       "      <td>1534.0</td>\n",
       "      <td>0.0160</td>\n",
       "      <td>0.0056</td>\n",
       "      <td>0.0034</td>\n",
       "      <td>0.0114</td>\n",
       "      <td>0.0155</td>\n",
       "      <td>0.0199</td>\n",
       "      <td>0.0401</td>\n",
       "    </tr>\n",
       "    <tr>\n",
       "      <th>Washington</th>\n",
       "      <td>507.0</td>\n",
       "      <td>0.0134</td>\n",
       "      <td>0.0034</td>\n",
       "      <td>0.0043</td>\n",
       "      <td>0.0120</td>\n",
       "      <td>0.0137</td>\n",
       "      <td>0.0143</td>\n",
       "      <td>0.0314</td>\n",
       "    </tr>\n",
       "  </tbody>\n",
       "</table>\n",
       "</div>"
      ],
      "text/plain": [
       "                   count    mean     std     min     25%     50%     75%  \\\n",
       "STNAME                                                                     \n",
       "Comparison_State  1534.0  0.0160  0.0056  0.0034  0.0114  0.0155  0.0199   \n",
       "Washington         507.0  0.0134  0.0034  0.0043  0.0120  0.0137  0.0143   \n",
       "\n",
       "                     max  \n",
       "STNAME                    \n",
       "Comparison_State  0.0401  \n",
       "Washington        0.0314  "
      ]
     },
     "execution_count": 280,
     "metadata": {},
     "output_type": "execute_result"
    }
   ],
   "source": [
    "df4 = DE_wa.copy()\n",
    "df4['STNAME']=df4['STNAME'].replace(['Oregon','Oklahoma','Hawaii'],'Comparison_State')\n",
    "df4['STNAME'].value_counts()\n",
    "round(df4.groupby('STNAME')['Death Rate (%)'].describe(),4)"
   ]
  },
  {
   "cell_type": "code",
   "execution_count": 281,
   "metadata": {},
   "outputs": [
    {
     "data": {
      "text/plain": [
       "STNAME\n",
       "Oregon    0.010542\n",
       "Name: Death Rate (%), dtype: float64"
      ]
     },
     "execution_count": 281,
     "metadata": {},
     "output_type": "execute_result"
    }
   ],
   "source": [
    "# WA death in OR before 2012\n",
    "DE_wa_or = DE_wa[DE_wa['STNAME'] == 'Oregon']\n",
    "DE_wa_or1 = DE_wa_or[DE_wa_or['YEAR']<= 2012]\n",
    "DE_wa_or1.groupby('STNAME')['Death Rate (%)'].mean()"
   ]
  },
  {
   "cell_type": "code",
   "execution_count": 282,
   "metadata": {},
   "outputs": [
    {
     "data": {
      "text/html": [
       "<div>\n",
       "<style scoped>\n",
       "    .dataframe tbody tr th:only-of-type {\n",
       "        vertical-align: middle;\n",
       "    }\n",
       "\n",
       "    .dataframe tbody tr th {\n",
       "        vertical-align: top;\n",
       "    }\n",
       "\n",
       "    .dataframe thead th {\n",
       "        text-align: right;\n",
       "    }\n",
       "</style>\n",
       "<table border=\"1\" class=\"dataframe\">\n",
       "  <thead>\n",
       "    <tr style=\"text-align: right;\">\n",
       "      <th></th>\n",
       "      <th>YEAR</th>\n",
       "      <th>STNAME</th>\n",
       "      <th>CTYNAME</th>\n",
       "      <th>Death Rate (%)</th>\n",
       "      <th>POPULATION</th>\n",
       "      <th>Indicator</th>\n",
       "    </tr>\n",
       "  </thead>\n",
       "  <tbody>\n",
       "    <tr>\n",
       "      <th>1357</th>\n",
       "      <td>2011</td>\n",
       "      <td>Oregon</td>\n",
       "      <td>Clatsop County</td>\n",
       "      <td>0.029537</td>\n",
       "      <td>37241</td>\n",
       "      <td>Control</td>\n",
       "    </tr>\n",
       "    <tr>\n",
       "      <th>1235</th>\n",
       "      <td>2007</td>\n",
       "      <td>Oregon</td>\n",
       "      <td>Multnomah County</td>\n",
       "      <td>0.023384</td>\n",
       "      <td>697048</td>\n",
       "      <td>Control</td>\n",
       "    </tr>\n",
       "    <tr>\n",
       "      <th>1188</th>\n",
       "      <td>2006</td>\n",
       "      <td>Oregon</td>\n",
       "      <td>Jackson County</td>\n",
       "      <td>0.021411</td>\n",
       "      <td>196165</td>\n",
       "      <td>Control</td>\n",
       "    </tr>\n",
       "  </tbody>\n",
       "</table>\n",
       "</div>"
      ],
      "text/plain": [
       "      YEAR  STNAME           CTYNAME  Death Rate (%)  POPULATION Indicator\n",
       "1357  2011  Oregon    Clatsop County        0.029537       37241   Control\n",
       "1235  2007  Oregon  Multnomah County        0.023384      697048   Control\n",
       "1188  2006  Oregon    Jackson County        0.021411      196165   Control"
      ]
     },
     "execution_count": 282,
     "metadata": {},
     "output_type": "execute_result"
    }
   ],
   "source": [
    "# death to OR by CTYNAME before 2012 top 3 county \n",
    "DE_wa_or1.groupby('CTYNAME')['Death Rate (%)'].mean()\n",
    "DE_wa_or_2012 = DE_wa_or1[DE_wa_or1['YEAR'] <= 2012].sort_values(ascending=False,by='Death Rate (%)')\n",
    "DE_wa_or_2012.head(3)"
   ]
  },
  {
   "cell_type": "code",
   "execution_count": 283,
   "metadata": {},
   "outputs": [
    {
     "data": {
      "text/plain": [
       "STNAME\n",
       "Oregon    0.01136\n",
       "Name: Death Rate (%), dtype: float64"
      ]
     },
     "execution_count": 283,
     "metadata": {},
     "output_type": "execute_result"
    }
   ],
   "source": [
    "# WA death in OR after 2012\n",
    "DE_wa_or2 = DE_wa_or[DE_wa_or['YEAR']> 2012]\n",
    "DE_wa_or2.groupby('STNAME')['Death Rate (%)'].mean()"
   ]
  },
  {
   "cell_type": "code",
   "execution_count": 284,
   "metadata": {},
   "outputs": [
    {
     "data": {
      "text/html": [
       "<div>\n",
       "<style scoped>\n",
       "    .dataframe tbody tr th:only-of-type {\n",
       "        vertical-align: middle;\n",
       "    }\n",
       "\n",
       "    .dataframe tbody tr th {\n",
       "        vertical-align: top;\n",
       "    }\n",
       "\n",
       "    .dataframe thead th {\n",
       "        text-align: right;\n",
       "    }\n",
       "</style>\n",
       "<table border=\"1\" class=\"dataframe\">\n",
       "  <thead>\n",
       "    <tr style=\"text-align: right;\">\n",
       "      <th></th>\n",
       "      <th>YEAR</th>\n",
       "      <th>STNAME</th>\n",
       "      <th>CTYNAME</th>\n",
       "      <th>Death Rate (%)</th>\n",
       "      <th>POPULATION</th>\n",
       "      <th>Indicator</th>\n",
       "    </tr>\n",
       "  </thead>\n",
       "  <tbody>\n",
       "    <tr>\n",
       "      <th>1482</th>\n",
       "      <td>2014</td>\n",
       "      <td>Oregon</td>\n",
       "      <td>Lincoln County</td>\n",
       "      <td>0.025872</td>\n",
       "      <td>46383</td>\n",
       "      <td>Control</td>\n",
       "    </tr>\n",
       "    <tr>\n",
       "      <th>1483</th>\n",
       "      <td>2014</td>\n",
       "      <td>Oregon</td>\n",
       "      <td>Linn County</td>\n",
       "      <td>0.019312</td>\n",
       "      <td>119095</td>\n",
       "      <td>Control</td>\n",
       "    </tr>\n",
       "    <tr>\n",
       "      <th>1481</th>\n",
       "      <td>2014</td>\n",
       "      <td>Oregon</td>\n",
       "      <td>Lane County</td>\n",
       "      <td>0.016189</td>\n",
       "      <td>358273</td>\n",
       "      <td>Control</td>\n",
       "    </tr>\n",
       "  </tbody>\n",
       "</table>\n",
       "</div>"
      ],
      "text/plain": [
       "      YEAR  STNAME         CTYNAME  Death Rate (%)  POPULATION Indicator\n",
       "1482  2014  Oregon  Lincoln County        0.025872       46383   Control\n",
       "1483  2014  Oregon     Linn County        0.019312      119095   Control\n",
       "1481  2014  Oregon     Lane County        0.016189      358273   Control"
      ]
     },
     "execution_count": 284,
     "metadata": {},
     "output_type": "execute_result"
    }
   ],
   "source": [
    "# death to OR by CTYNAME after 2012 top 3 county \n",
    "DE_wa_or1.groupby('CTYNAME')['Death Rate (%)'].mean()\n",
    "DE_wa_or_after_2012 = DE_wa_or2[DE_wa_or2['YEAR'] > 2012].sort_values(ascending=False,by='Death Rate (%)')\n",
    "DE_wa_or_after_2012.head(3)"
   ]
  },
  {
   "cell_type": "code",
   "execution_count": 285,
   "metadata": {},
   "outputs": [
    {
     "data": {
      "text/plain": [
       "STNAME\n",
       "Oklahoma    0.018269\n",
       "Name: Death Rate (%), dtype: float64"
      ]
     },
     "execution_count": 285,
     "metadata": {},
     "output_type": "execute_result"
    }
   ],
   "source": [
    "# WA death in OK before 2012\n",
    "DE_wa_ok = DE_wa[DE_wa['STNAME'] == 'Oklahoma']\n",
    "DE_wa_ok1 = DE_wa_ok[DE_wa_ok['YEAR']<= 2012]\n",
    "DE_wa_ok1.groupby('STNAME')['Death Rate (%)'].mean()"
   ]
  },
  {
   "cell_type": "code",
   "execution_count": 286,
   "metadata": {},
   "outputs": [
    {
     "data": {
      "text/html": [
       "<div>\n",
       "<style scoped>\n",
       "    .dataframe tbody tr th:only-of-type {\n",
       "        vertical-align: middle;\n",
       "    }\n",
       "\n",
       "    .dataframe tbody tr th {\n",
       "        vertical-align: top;\n",
       "    }\n",
       "\n",
       "    .dataframe thead th {\n",
       "        text-align: right;\n",
       "    }\n",
       "</style>\n",
       "<table border=\"1\" class=\"dataframe\">\n",
       "  <thead>\n",
       "    <tr style=\"text-align: right;\">\n",
       "      <th></th>\n",
       "      <th>YEAR</th>\n",
       "      <th>STNAME</th>\n",
       "      <th>CTYNAME</th>\n",
       "      <th>Death Rate (%)</th>\n",
       "      <th>POPULATION</th>\n",
       "      <th>Indicator</th>\n",
       "    </tr>\n",
       "  </thead>\n",
       "  <tbody>\n",
       "    <tr>\n",
       "      <th>588</th>\n",
       "      <td>2009</td>\n",
       "      <td>Oklahoma</td>\n",
       "      <td>Pontotoc County</td>\n",
       "      <td>0.037411</td>\n",
       "      <td>37422</td>\n",
       "      <td>Control</td>\n",
       "    </tr>\n",
       "    <tr>\n",
       "      <th>742</th>\n",
       "      <td>2011</td>\n",
       "      <td>Oklahoma</td>\n",
       "      <td>Pontotoc County</td>\n",
       "      <td>0.037085</td>\n",
       "      <td>37751</td>\n",
       "      <td>Control</td>\n",
       "    </tr>\n",
       "    <tr>\n",
       "      <th>594</th>\n",
       "      <td>2009</td>\n",
       "      <td>Oklahoma</td>\n",
       "      <td>Sequoyah County</td>\n",
       "      <td>0.036203</td>\n",
       "      <td>41433</td>\n",
       "      <td>Control</td>\n",
       "    </tr>\n",
       "  </tbody>\n",
       "</table>\n",
       "</div>"
      ],
      "text/plain": [
       "     YEAR    STNAME          CTYNAME  Death Rate (%)  POPULATION Indicator\n",
       "588  2009  Oklahoma  Pontotoc County        0.037411       37422   Control\n",
       "742  2011  Oklahoma  Pontotoc County        0.037085       37751   Control\n",
       "594  2009  Oklahoma  Sequoyah County        0.036203       41433   Control"
      ]
     },
     "execution_count": 286,
     "metadata": {},
     "output_type": "execute_result"
    }
   ],
   "source": [
    "# death to OK by CTYNAME before 2012 top 3 county \n",
    "DE_wa_ok1.groupby('CTYNAME')['Death Rate (%)'].mean()\n",
    "DE_wa_ok_2012 = DE_wa_ok1[DE_wa_ok1['YEAR'] <= 2012].sort_values(ascending=False,by='Death Rate (%)')\n",
    "DE_wa_ok_2012.head(3)"
   ]
  },
  {
   "cell_type": "code",
   "execution_count": 287,
   "metadata": {},
   "outputs": [
    {
     "data": {
      "text/plain": [
       "STNAME\n",
       "Oregon    0.01136\n",
       "Name: Death Rate (%), dtype: float64"
      ]
     },
     "execution_count": 287,
     "metadata": {},
     "output_type": "execute_result"
    }
   ],
   "source": [
    "# WA death in OR after 2012\n",
    "DE_wa_ok2 = DE_wa_or[DE_wa_or['YEAR']>2012]\n",
    "DE_wa_ok2.groupby('STNAME')['Death Rate (%)'].mean()"
   ]
  },
  {
   "cell_type": "code",
   "execution_count": 288,
   "metadata": {},
   "outputs": [
    {
     "data": {
      "text/html": [
       "<div>\n",
       "<style scoped>\n",
       "    .dataframe tbody tr th:only-of-type {\n",
       "        vertical-align: middle;\n",
       "    }\n",
       "\n",
       "    .dataframe tbody tr th {\n",
       "        vertical-align: top;\n",
       "    }\n",
       "\n",
       "    .dataframe thead th {\n",
       "        text-align: right;\n",
       "    }\n",
       "</style>\n",
       "<table border=\"1\" class=\"dataframe\">\n",
       "  <thead>\n",
       "    <tr style=\"text-align: right;\">\n",
       "      <th></th>\n",
       "      <th>YEAR</th>\n",
       "      <th>STNAME</th>\n",
       "      <th>CTYNAME</th>\n",
       "      <th>Death Rate (%)</th>\n",
       "      <th>POPULATION</th>\n",
       "      <th>Indicator</th>\n",
       "    </tr>\n",
       "  </thead>\n",
       "  <tbody>\n",
       "    <tr>\n",
       "      <th>1482</th>\n",
       "      <td>2014</td>\n",
       "      <td>Oregon</td>\n",
       "      <td>Lincoln County</td>\n",
       "      <td>0.025872</td>\n",
       "      <td>46383</td>\n",
       "      <td>Control</td>\n",
       "    </tr>\n",
       "    <tr>\n",
       "      <th>1483</th>\n",
       "      <td>2014</td>\n",
       "      <td>Oregon</td>\n",
       "      <td>Linn County</td>\n",
       "      <td>0.019312</td>\n",
       "      <td>119095</td>\n",
       "      <td>Control</td>\n",
       "    </tr>\n",
       "    <tr>\n",
       "      <th>1481</th>\n",
       "      <td>2014</td>\n",
       "      <td>Oregon</td>\n",
       "      <td>Lane County</td>\n",
       "      <td>0.016189</td>\n",
       "      <td>358273</td>\n",
       "      <td>Control</td>\n",
       "    </tr>\n",
       "  </tbody>\n",
       "</table>\n",
       "</div>"
      ],
      "text/plain": [
       "      YEAR  STNAME         CTYNAME  Death Rate (%)  POPULATION Indicator\n",
       "1482  2014  Oregon  Lincoln County        0.025872       46383   Control\n",
       "1483  2014  Oregon     Linn County        0.019312      119095   Control\n",
       "1481  2014  Oregon     Lane County        0.016189      358273   Control"
      ]
     },
     "execution_count": 288,
     "metadata": {},
     "output_type": "execute_result"
    }
   ],
   "source": [
    "# death to OK by CTYNAME after 2012 top 3 county \n",
    "DE_wa_ok2.groupby('CTYNAME')['Death Rate (%)'].mean()\n",
    "DE_wa_ok_after_2012 = DE_wa_ok2[DE_wa_ok2['YEAR'] > 2012].sort_values(ascending=False,by='Death Rate (%)')\n",
    "DE_wa_ok_after_2012.head(3)"
   ]
  },
  {
   "cell_type": "code",
   "execution_count": 289,
   "metadata": {},
   "outputs": [
    {
     "data": {
      "text/plain": [
       "STNAME\n",
       "Hawaii    0.00948\n",
       "Name: Death Rate (%), dtype: float64"
      ]
     },
     "execution_count": 289,
     "metadata": {},
     "output_type": "execute_result"
    }
   ],
   "source": [
    "# WA death in Hi before 2012\n",
    "DE_wa_hi = DE_wa[DE_wa['STNAME'] == 'Hawaii']\n",
    "DE_wa_hi1 = DE_wa_hi[DE_wa_hi['YEAR']<= 2012]\n",
    "DE_wa_hi1.groupby('STNAME')['Death Rate (%)'].mean()"
   ]
  },
  {
   "cell_type": "code",
   "execution_count": 290,
   "metadata": {},
   "outputs": [
    {
     "data": {
      "text/html": [
       "<div>\n",
       "<style scoped>\n",
       "    .dataframe tbody tr th:only-of-type {\n",
       "        vertical-align: middle;\n",
       "    }\n",
       "\n",
       "    .dataframe tbody tr th {\n",
       "        vertical-align: top;\n",
       "    }\n",
       "\n",
       "    .dataframe thead th {\n",
       "        text-align: right;\n",
       "    }\n",
       "</style>\n",
       "<table border=\"1\" class=\"dataframe\">\n",
       "  <thead>\n",
       "    <tr style=\"text-align: right;\">\n",
       "      <th></th>\n",
       "      <th>YEAR</th>\n",
       "      <th>STNAME</th>\n",
       "      <th>CTYNAME</th>\n",
       "      <th>Death Rate (%)</th>\n",
       "      <th>POPULATION</th>\n",
       "      <th>Indicator</th>\n",
       "    </tr>\n",
       "  </thead>\n",
       "  <tbody>\n",
       "    <tr>\n",
       "      <th>44</th>\n",
       "      <td>2011</td>\n",
       "      <td>Hawaii</td>\n",
       "      <td>Maui County</td>\n",
       "      <td>0.020386</td>\n",
       "      <td>156967</td>\n",
       "      <td>Control</td>\n",
       "    </tr>\n",
       "    <tr>\n",
       "      <th>30</th>\n",
       "      <td>2009</td>\n",
       "      <td>Hawaii</td>\n",
       "      <td>Hawaii County</td>\n",
       "      <td>0.015745</td>\n",
       "      <td>177835</td>\n",
       "      <td>Control</td>\n",
       "    </tr>\n",
       "    <tr>\n",
       "      <th>25</th>\n",
       "      <td>2008</td>\n",
       "      <td>Hawaii</td>\n",
       "      <td>Hawaii County</td>\n",
       "      <td>0.013039</td>\n",
       "      <td>176399</td>\n",
       "      <td>Control</td>\n",
       "    </tr>\n",
       "  </tbody>\n",
       "</table>\n",
       "</div>"
      ],
      "text/plain": [
       "    YEAR  STNAME        CTYNAME  Death Rate (%)  POPULATION Indicator\n",
       "44  2011  Hawaii    Maui County        0.020386      156967   Control\n",
       "30  2009  Hawaii  Hawaii County        0.015745      177835   Control\n",
       "25  2008  Hawaii  Hawaii County        0.013039      176399   Control"
      ]
     },
     "execution_count": 290,
     "metadata": {},
     "output_type": "execute_result"
    }
   ],
   "source": [
    "# death to Hi by CTYNAME before 2012 top 3 county \n",
    "DE_wa_hi1.groupby('CTYNAME')['Death Rate (%)'].mean()\n",
    "DE_wa_hi_2012 = DE_wa_hi1[DE_wa_hi1['YEAR'] <= 2012].sort_values(ascending=False,by='Death Rate (%)')\n",
    "DE_wa_hi_2012.head(3)"
   ]
  },
  {
   "cell_type": "code",
   "execution_count": 291,
   "metadata": {},
   "outputs": [
    {
     "data": {
      "text/plain": [
       "STNAME\n",
       "Hawaii    0.008865\n",
       "Name: Death Rate (%), dtype: float64"
      ]
     },
     "execution_count": 291,
     "metadata": {},
     "output_type": "execute_result"
    }
   ],
   "source": [
    "# WA death in Hi after 2012\n",
    "DE_wa_hi2 = DE_wa_hi[DE_wa_hi['YEAR']>2012]\n",
    "DE_wa_hi2.groupby('STNAME')['Death Rate (%)'].mean()"
   ]
  },
  {
   "cell_type": "code",
   "execution_count": 292,
   "metadata": {},
   "outputs": [
    {
     "data": {
      "text/html": [
       "<div>\n",
       "<style scoped>\n",
       "    .dataframe tbody tr th:only-of-type {\n",
       "        vertical-align: middle;\n",
       "    }\n",
       "\n",
       "    .dataframe tbody tr th {\n",
       "        vertical-align: top;\n",
       "    }\n",
       "\n",
       "    .dataframe thead th {\n",
       "        text-align: right;\n",
       "    }\n",
       "</style>\n",
       "<table border=\"1\" class=\"dataframe\">\n",
       "  <thead>\n",
       "    <tr style=\"text-align: right;\">\n",
       "      <th></th>\n",
       "      <th>YEAR</th>\n",
       "      <th>STNAME</th>\n",
       "      <th>CTYNAME</th>\n",
       "      <th>Death Rate (%)</th>\n",
       "      <th>POPULATION</th>\n",
       "      <th>Indicator</th>\n",
       "    </tr>\n",
       "  </thead>\n",
       "  <tbody>\n",
       "    <tr>\n",
       "      <th>61</th>\n",
       "      <td>2015</td>\n",
       "      <td>Hawaii</td>\n",
       "      <td>Honolulu County</td>\n",
       "      <td>0.011999</td>\n",
       "      <td>991755</td>\n",
       "      <td>Control</td>\n",
       "    </tr>\n",
       "    <tr>\n",
       "      <th>59</th>\n",
       "      <td>2014</td>\n",
       "      <td>Hawaii</td>\n",
       "      <td>Maui County</td>\n",
       "      <td>0.011035</td>\n",
       "      <td>163116</td>\n",
       "      <td>Control</td>\n",
       "    </tr>\n",
       "    <tr>\n",
       "      <th>51</th>\n",
       "      <td>2013</td>\n",
       "      <td>Hawaii</td>\n",
       "      <td>Honolulu County</td>\n",
       "      <td>0.010441</td>\n",
       "      <td>986494</td>\n",
       "      <td>Control</td>\n",
       "    </tr>\n",
       "  </tbody>\n",
       "</table>\n",
       "</div>"
      ],
      "text/plain": [
       "    YEAR  STNAME          CTYNAME  Death Rate (%)  POPULATION Indicator\n",
       "61  2015  Hawaii  Honolulu County        0.011999      991755   Control\n",
       "59  2014  Hawaii      Maui County        0.011035      163116   Control\n",
       "51  2013  Hawaii  Honolulu County        0.010441      986494   Control"
      ]
     },
     "execution_count": 292,
     "metadata": {},
     "output_type": "execute_result"
    }
   ],
   "source": [
    "# death to Hi by CTYNAME after 2012 top 3 county \n",
    "DE_wa_hi2.groupby('CTYNAME')['Death Rate (%)'].mean()\n",
    "DE_wa_hi_after_2012 = DE_wa_hi2[DE_wa_hi2['YEAR'] > 2012].sort_values(ascending=False,by='Death Rate (%)')\n",
    "DE_wa_hi_after_2012.head(3)"
   ]
  },
  {
   "cell_type": "code",
   "execution_count": 293,
   "metadata": {},
   "outputs": [
    {
     "data": {
      "text/plain": [
       "STNAME\n",
       "Washington    0.013275\n",
       "Name: Death Rate (%), dtype: float64"
      ]
     },
     "execution_count": 293,
     "metadata": {},
     "output_type": "execute_result"
    }
   ],
   "source": [
    "# WA death in WA before 2012\n",
    "DE_wa_wa = DE_wa[DE_wa['STNAME'] == 'Washington']\n",
    "DE_wa_wa1 = DE_wa_wa[DE_wa_wa['YEAR']<= 2012]\n",
    "DE_wa_wa1.groupby('STNAME')['Death Rate (%)'].mean()"
   ]
  },
  {
   "cell_type": "code",
   "execution_count": 294,
   "metadata": {},
   "outputs": [
    {
     "data": {
      "text/html": [
       "<div>\n",
       "<style scoped>\n",
       "    .dataframe tbody tr th:only-of-type {\n",
       "        vertical-align: middle;\n",
       "    }\n",
       "\n",
       "    .dataframe tbody tr th {\n",
       "        vertical-align: top;\n",
       "    }\n",
       "\n",
       "    .dataframe thead th {\n",
       "        text-align: right;\n",
       "    }\n",
       "</style>\n",
       "<table border=\"1\" class=\"dataframe\">\n",
       "  <thead>\n",
       "    <tr style=\"text-align: right;\">\n",
       "      <th></th>\n",
       "      <th>YEAR</th>\n",
       "      <th>STNAME</th>\n",
       "      <th>CTYNAME</th>\n",
       "      <th>Death Rate (%)</th>\n",
       "      <th>POPULATION</th>\n",
       "      <th>Indicator</th>\n",
       "    </tr>\n",
       "  </thead>\n",
       "  <tbody>\n",
       "    <tr>\n",
       "      <th>1683</th>\n",
       "      <td>2006</td>\n",
       "      <td>Washington</td>\n",
       "      <td>Stevens County</td>\n",
       "      <td>0.031407</td>\n",
       "      <td>41392</td>\n",
       "      <td>Treatment</td>\n",
       "    </tr>\n",
       "    <tr>\n",
       "      <th>1760</th>\n",
       "      <td>2008</td>\n",
       "      <td>Washington</td>\n",
       "      <td>Spokane County</td>\n",
       "      <td>0.027249</td>\n",
       "      <td>462408</td>\n",
       "      <td>Treatment</td>\n",
       "    </tr>\n",
       "    <tr>\n",
       "      <th>1694</th>\n",
       "      <td>2007</td>\n",
       "      <td>Washington</td>\n",
       "      <td>Clallam County</td>\n",
       "      <td>0.027038</td>\n",
       "      <td>70272</td>\n",
       "      <td>Treatment</td>\n",
       "    </tr>\n",
       "  </tbody>\n",
       "</table>\n",
       "</div>"
      ],
      "text/plain": [
       "      YEAR      STNAME         CTYNAME  Death Rate (%)  POPULATION  Indicator\n",
       "1683  2006  Washington  Stevens County        0.031407       41392  Treatment\n",
       "1760  2008  Washington  Spokane County        0.027249      462408  Treatment\n",
       "1694  2007  Washington  Clallam County        0.027038       70272  Treatment"
      ]
     },
     "execution_count": 294,
     "metadata": {},
     "output_type": "execute_result"
    }
   ],
   "source": [
    "# death to WA by CTYNAME before 2012 top 3 county \n",
    "DE_wa_wa1.groupby('CTYNAME')['Death Rate (%)'].mean()\n",
    "DE_wa_wa_2012 = DE_wa_wa1[DE_wa_wa1['YEAR'] <= 2012].sort_values(ascending=False,by='Death Rate (%)')\n",
    "DE_wa_wa_2012.head(3)"
   ]
  },
  {
   "cell_type": "code",
   "execution_count": 295,
   "metadata": {},
   "outputs": [
    {
     "data": {
      "text/plain": [
       "STNAME\n",
       "Washington    0.013734\n",
       "Name: Death Rate (%), dtype: float64"
      ]
     },
     "execution_count": 295,
     "metadata": {},
     "output_type": "execute_result"
    }
   ],
   "source": [
    "# WA death in WA after 2012\n",
    "DE_wa_wa2 = DE_wa_wa[DE_wa_wa['YEAR']> 2012]\n",
    "DE_wa_wa2.groupby('STNAME')['Death Rate (%)'].mean()"
   ]
  },
  {
   "cell_type": "code",
   "execution_count": 296,
   "metadata": {},
   "outputs": [
    {
     "data": {
      "text/html": [
       "<div>\n",
       "<style scoped>\n",
       "    .dataframe tbody tr th:only-of-type {\n",
       "        vertical-align: middle;\n",
       "    }\n",
       "\n",
       "    .dataframe tbody tr th {\n",
       "        vertical-align: top;\n",
       "    }\n",
       "\n",
       "    .dataframe thead th {\n",
       "        text-align: right;\n",
       "    }\n",
       "</style>\n",
       "<table border=\"1\" class=\"dataframe\">\n",
       "  <thead>\n",
       "    <tr style=\"text-align: right;\">\n",
       "      <th></th>\n",
       "      <th>YEAR</th>\n",
       "      <th>STNAME</th>\n",
       "      <th>CTYNAME</th>\n",
       "      <th>Death Rate (%)</th>\n",
       "      <th>POPULATION</th>\n",
       "      <th>Indicator</th>\n",
       "    </tr>\n",
       "  </thead>\n",
       "  <tbody>\n",
       "    <tr>\n",
       "      <th>1998</th>\n",
       "      <td>2014</td>\n",
       "      <td>Washington</td>\n",
       "      <td>Walla Walla County</td>\n",
       "      <td>0.021831</td>\n",
       "      <td>59548</td>\n",
       "      <td>Treatment</td>\n",
       "    </tr>\n",
       "    <tr>\n",
       "      <th>1976</th>\n",
       "      <td>2014</td>\n",
       "      <td>Washington</td>\n",
       "      <td>Grays Harbor County</td>\n",
       "      <td>0.021188</td>\n",
       "      <td>70796</td>\n",
       "      <td>Treatment</td>\n",
       "    </tr>\n",
       "    <tr>\n",
       "      <th>2015</th>\n",
       "      <td>2015</td>\n",
       "      <td>Washington</td>\n",
       "      <td>Grays Harbor County</td>\n",
       "      <td>0.021119</td>\n",
       "      <td>71027</td>\n",
       "      <td>Treatment</td>\n",
       "    </tr>\n",
       "  </tbody>\n",
       "</table>\n",
       "</div>"
      ],
      "text/plain": [
       "      YEAR      STNAME              CTYNAME  Death Rate (%)  POPULATION  \\\n",
       "1998  2014  Washington   Walla Walla County        0.021831       59548   \n",
       "1976  2014  Washington  Grays Harbor County        0.021188       70796   \n",
       "2015  2015  Washington  Grays Harbor County        0.021119       71027   \n",
       "\n",
       "      Indicator  \n",
       "1998  Treatment  \n",
       "1976  Treatment  \n",
       "2015  Treatment  "
      ]
     },
     "execution_count": 296,
     "metadata": {},
     "output_type": "execute_result"
    }
   ],
   "source": [
    "# death to WA by CTYNAME after 2012 top 3 county \n",
    "DE_wa_wa_after_2012 = DE_wa_wa2[DE_wa_wa2['YEAR'] >2012].sort_values(ascending=False,by='Death Rate (%)')\n",
    "DE_wa_wa_after_2012.head(3)"
   ]
  },
  {
   "cell_type": "markdown",
   "metadata": {},
   "source": [
    "### Texas--WI,NY,OR"
   ]
  },
  {
   "cell_type": "code",
   "execution_count": 297,
   "metadata": {},
   "outputs": [
    {
     "data": {
      "text/html": [
       "<div>\n",
       "<style scoped>\n",
       "    .dataframe tbody tr th:only-of-type {\n",
       "        vertical-align: middle;\n",
       "    }\n",
       "\n",
       "    .dataframe tbody tr th {\n",
       "        vertical-align: top;\n",
       "    }\n",
       "\n",
       "    .dataframe thead th {\n",
       "        text-align: right;\n",
       "    }\n",
       "</style>\n",
       "<table border=\"1\" class=\"dataframe\">\n",
       "  <thead>\n",
       "    <tr style=\"text-align: right;\">\n",
       "      <th></th>\n",
       "      <th>YEAR</th>\n",
       "      <th>STNAME</th>\n",
       "      <th>CTYNAME</th>\n",
       "      <th>Death Rate (%)</th>\n",
       "      <th>POPULATION</th>\n",
       "      <th>Indicator</th>\n",
       "    </tr>\n",
       "  </thead>\n",
       "  <tbody>\n",
       "    <tr>\n",
       "      <th>0</th>\n",
       "      <td>2003</td>\n",
       "      <td>New York</td>\n",
       "      <td>Albany County</td>\n",
       "      <td>0.005506</td>\n",
       "      <td>298491</td>\n",
       "      <td>Control</td>\n",
       "    </tr>\n",
       "    <tr>\n",
       "      <th>1</th>\n",
       "      <td>2003</td>\n",
       "      <td>New York</td>\n",
       "      <td>Allegany County</td>\n",
       "      <td>0.005506</td>\n",
       "      <td>50220</td>\n",
       "      <td>Control</td>\n",
       "    </tr>\n",
       "    <tr>\n",
       "      <th>2</th>\n",
       "      <td>2003</td>\n",
       "      <td>New York</td>\n",
       "      <td>Bronx County</td>\n",
       "      <td>0.009677</td>\n",
       "      <td>1353712</td>\n",
       "      <td>Control</td>\n",
       "    </tr>\n",
       "    <tr>\n",
       "      <th>3</th>\n",
       "      <td>2003</td>\n",
       "      <td>New York</td>\n",
       "      <td>Broome County</td>\n",
       "      <td>0.005506</td>\n",
       "      <td>198364</td>\n",
       "      <td>Control</td>\n",
       "    </tr>\n",
       "    <tr>\n",
       "      <th>4</th>\n",
       "      <td>2003</td>\n",
       "      <td>New York</td>\n",
       "      <td>Cattaraugus County</td>\n",
       "      <td>0.005506</td>\n",
       "      <td>82968</td>\n",
       "      <td>Control</td>\n",
       "    </tr>\n",
       "  </tbody>\n",
       "</table>\n",
       "</div>"
      ],
      "text/plain": [
       "   YEAR    STNAME             CTYNAME  Death Rate (%)  POPULATION Indicator\n",
       "0  2003  New York       Albany County        0.005506      298491   Control\n",
       "1  2003  New York     Allegany County        0.005506       50220   Control\n",
       "2  2003  New York        Bronx County        0.009677     1353712   Control\n",
       "3  2003  New York       Broome County        0.005506      198364   Control\n",
       "4  2003  New York  Cattaraugus County        0.005506       82968   Control"
      ]
     },
     "execution_count": 297,
     "metadata": {},
     "output_type": "execute_result"
    }
   ],
   "source": [
    "url = 'https://raw.githubusercontent.com/MIDS-at-Duke/pds-2022-yellow-team/main/20_intermediate_files/texas_death_cleaned.csv?token=GHSAT0AAAAAABYIEB2PMRJS2EW6CMRYOGESY4TW7YA'\n",
    "DE_tx = pd.read_csv(url)\n",
    "DE_tx.head()"
   ]
  },
  {
   "cell_type": "code",
   "execution_count": 298,
   "metadata": {},
   "outputs": [
    {
     "data": {
      "text/html": [
       "<div>\n",
       "<style scoped>\n",
       "    .dataframe tbody tr th:only-of-type {\n",
       "        vertical-align: middle;\n",
       "    }\n",
       "\n",
       "    .dataframe tbody tr th {\n",
       "        vertical-align: top;\n",
       "    }\n",
       "\n",
       "    .dataframe thead th {\n",
       "        text-align: right;\n",
       "    }\n",
       "</style>\n",
       "<table border=\"1\" class=\"dataframe\">\n",
       "  <thead>\n",
       "    <tr style=\"text-align: right;\">\n",
       "      <th></th>\n",
       "      <th>count</th>\n",
       "      <th>mean</th>\n",
       "      <th>std</th>\n",
       "      <th>min</th>\n",
       "      <th>25%</th>\n",
       "      <th>50%</th>\n",
       "      <th>75%</th>\n",
       "      <th>max</th>\n",
       "    </tr>\n",
       "    <tr>\n",
       "      <th>STNAME</th>\n",
       "      <th></th>\n",
       "      <th></th>\n",
       "      <th></th>\n",
       "      <th></th>\n",
       "      <th></th>\n",
       "      <th></th>\n",
       "      <th></th>\n",
       "      <th></th>\n",
       "    </tr>\n",
       "  </thead>\n",
       "  <tbody>\n",
       "    <tr>\n",
       "      <th>Comparison_State</th>\n",
       "      <td>2210.0</td>\n",
       "      <td>0.0106</td>\n",
       "      <td>0.0032</td>\n",
       "      <td>0.0008</td>\n",
       "      <td>0.0084</td>\n",
       "      <td>0.0108</td>\n",
       "      <td>0.0129</td>\n",
       "      <td>0.0376</td>\n",
       "    </tr>\n",
       "    <tr>\n",
       "      <th>Texas</th>\n",
       "      <td>3302.0</td>\n",
       "      <td>0.0102</td>\n",
       "      <td>0.0022</td>\n",
       "      <td>0.0015</td>\n",
       "      <td>0.0093</td>\n",
       "      <td>0.0099</td>\n",
       "      <td>0.0107</td>\n",
       "      <td>0.0416</td>\n",
       "    </tr>\n",
       "  </tbody>\n",
       "</table>\n",
       "</div>"
      ],
      "text/plain": [
       "                   count    mean     std     min     25%     50%     75%  \\\n",
       "STNAME                                                                     \n",
       "Comparison_State  2210.0  0.0106  0.0032  0.0008  0.0084  0.0108  0.0129   \n",
       "Texas             3302.0  0.0102  0.0022  0.0015  0.0093  0.0099  0.0107   \n",
       "\n",
       "                     max  \n",
       "STNAME                    \n",
       "Comparison_State  0.0376  \n",
       "Texas             0.0416  "
      ]
     },
     "execution_count": 298,
     "metadata": {},
     "output_type": "execute_result"
    }
   ],
   "source": [
    "df5 = DE_tx.copy()\n",
    "df5['STNAME']=df5['STNAME'].replace(['Wisconsin','New York','Oregon'],'Comparison_State')\n",
    "df5['STNAME'].value_counts()\n",
    "round(df5.groupby('STNAME')['Death Rate (%)'].describe(),4)"
   ]
  },
  {
   "cell_type": "code",
   "execution_count": 299,
   "metadata": {},
   "outputs": [
    {
     "data": {
      "text/plain": [
       "STNAME\n",
       "Wisconsin    0.009522\n",
       "Name: Death Rate (%), dtype: float64"
      ]
     },
     "execution_count": 299,
     "metadata": {},
     "output_type": "execute_result"
    }
   ],
   "source": [
    "# Tx death in WI before 2007\n",
    "DE_tx_wi = DE_tx[DE_tx['STNAME'] == 'Wisconsin']\n",
    "DE_tx_wi1 = DE_tx_wi[DE_tx_wi['YEAR']<= 2007]\n",
    "DE_tx_wi1.groupby('STNAME')['Death Rate (%)'].mean()"
   ]
  },
  {
   "cell_type": "code",
   "execution_count": 300,
   "metadata": {},
   "outputs": [
    {
     "data": {
      "text/html": [
       "<div>\n",
       "<style scoped>\n",
       "    .dataframe tbody tr th:only-of-type {\n",
       "        vertical-align: middle;\n",
       "    }\n",
       "\n",
       "    .dataframe tbody tr th {\n",
       "        vertical-align: top;\n",
       "    }\n",
       "\n",
       "    .dataframe thead th {\n",
       "        text-align: right;\n",
       "    }\n",
       "</style>\n",
       "<table border=\"1\" class=\"dataframe\">\n",
       "  <thead>\n",
       "    <tr style=\"text-align: right;\">\n",
       "      <th></th>\n",
       "      <th>YEAR</th>\n",
       "      <th>STNAME</th>\n",
       "      <th>CTYNAME</th>\n",
       "      <th>Death Rate (%)</th>\n",
       "      <th>POPULATION</th>\n",
       "      <th>Indicator</th>\n",
       "    </tr>\n",
       "  </thead>\n",
       "  <tbody>\n",
       "    <tr>\n",
       "      <th>4832</th>\n",
       "      <td>2006</td>\n",
       "      <td>Wisconsin</td>\n",
       "      <td>Milwaukee County</td>\n",
       "      <td>0.019950</td>\n",
       "      <td>952374</td>\n",
       "      <td>Control</td>\n",
       "    </tr>\n",
       "    <tr>\n",
       "      <th>4904</th>\n",
       "      <td>2007</td>\n",
       "      <td>Wisconsin</td>\n",
       "      <td>Milwaukee County</td>\n",
       "      <td>0.019429</td>\n",
       "      <td>952185</td>\n",
       "      <td>Control</td>\n",
       "    </tr>\n",
       "    <tr>\n",
       "      <th>4760</th>\n",
       "      <td>2005</td>\n",
       "      <td>Wisconsin</td>\n",
       "      <td>Milwaukee County</td>\n",
       "      <td>0.018502</td>\n",
       "      <td>951265</td>\n",
       "      <td>Control</td>\n",
       "    </tr>\n",
       "  </tbody>\n",
       "</table>\n",
       "</div>"
      ],
      "text/plain": [
       "      YEAR     STNAME           CTYNAME  Death Rate (%)  POPULATION Indicator\n",
       "4832  2006  Wisconsin  Milwaukee County        0.019950      952374   Control\n",
       "4904  2007  Wisconsin  Milwaukee County        0.019429      952185   Control\n",
       "4760  2005  Wisconsin  Milwaukee County        0.018502      951265   Control"
      ]
     },
     "execution_count": 300,
     "metadata": {},
     "output_type": "execute_result"
    }
   ],
   "source": [
    "# death to WI by CTYNAME before 2007 top 3 county \n",
    "DE_tx_wi.groupby('CTYNAME')['Death Rate (%)'].mean()\n",
    "DE_tx_wi_2007 = DE_tx_wi1[DE_tx_wi1['YEAR'] <= 2007].sort_values(ascending=False,by='Death Rate (%)')\n",
    "DE_tx_wi_2007.head(3)"
   ]
  },
  {
   "cell_type": "code",
   "execution_count": 301,
   "metadata": {},
   "outputs": [
    {
     "data": {
      "text/plain": [
       "STNAME\n",
       "Wisconsin    0.012712\n",
       "Name: Death Rate (%), dtype: float64"
      ]
     },
     "execution_count": 301,
     "metadata": {},
     "output_type": "execute_result"
    }
   ],
   "source": [
    "# Tx death in WI after 2007\n",
    "DE_tx_wi2 = DE_tx_wi[DE_tx_wi['YEAR']> 2007]\n",
    "DE_tx_wi2.groupby('STNAME')['Death Rate (%)'].mean()"
   ]
  },
  {
   "cell_type": "code",
   "execution_count": 302,
   "metadata": {},
   "outputs": [
    {
     "data": {
      "text/html": [
       "<div>\n",
       "<style scoped>\n",
       "    .dataframe tbody tr th:only-of-type {\n",
       "        vertical-align: middle;\n",
       "    }\n",
       "\n",
       "    .dataframe tbody tr th {\n",
       "        vertical-align: top;\n",
       "    }\n",
       "\n",
       "    .dataframe thead th {\n",
       "        text-align: right;\n",
       "    }\n",
       "</style>\n",
       "<table border=\"1\" class=\"dataframe\">\n",
       "  <thead>\n",
       "    <tr style=\"text-align: right;\">\n",
       "      <th></th>\n",
       "      <th>YEAR</th>\n",
       "      <th>STNAME</th>\n",
       "      <th>CTYNAME</th>\n",
       "      <th>Death Rate (%)</th>\n",
       "      <th>POPULATION</th>\n",
       "      <th>Indicator</th>\n",
       "    </tr>\n",
       "  </thead>\n",
       "  <tbody>\n",
       "    <tr>\n",
       "      <th>5480</th>\n",
       "      <td>2015</td>\n",
       "      <td>Wisconsin</td>\n",
       "      <td>Milwaukee County</td>\n",
       "      <td>0.026705</td>\n",
       "      <td>958606</td>\n",
       "      <td>Control</td>\n",
       "    </tr>\n",
       "    <tr>\n",
       "      <th>5408</th>\n",
       "      <td>2014</td>\n",
       "      <td>Wisconsin</td>\n",
       "      <td>Milwaukee County</td>\n",
       "      <td>0.025140</td>\n",
       "      <td>958639</td>\n",
       "      <td>Control</td>\n",
       "    </tr>\n",
       "    <tr>\n",
       "      <th>5336</th>\n",
       "      <td>2013</td>\n",
       "      <td>Wisconsin</td>\n",
       "      <td>Milwaukee County</td>\n",
       "      <td>0.023602</td>\n",
       "      <td>957557</td>\n",
       "      <td>Control</td>\n",
       "    </tr>\n",
       "  </tbody>\n",
       "</table>\n",
       "</div>"
      ],
      "text/plain": [
       "      YEAR     STNAME           CTYNAME  Death Rate (%)  POPULATION Indicator\n",
       "5480  2015  Wisconsin  Milwaukee County        0.026705      958606   Control\n",
       "5408  2014  Wisconsin  Milwaukee County        0.025140      958639   Control\n",
       "5336  2013  Wisconsin  Milwaukee County        0.023602      957557   Control"
      ]
     },
     "execution_count": 302,
     "metadata": {},
     "output_type": "execute_result"
    }
   ],
   "source": [
    "# death to WI by CTYNAME after 2007 top 3 county \n",
    "DE_tx_wi_after_2007 = DE_tx_wi2[DE_tx_wi2['YEAR'] > 2007].sort_values(ascending=False,by='Death Rate (%)')\n",
    "DE_tx_wi_after_2007.head(3)"
   ]
  },
  {
   "cell_type": "code",
   "execution_count": 303,
   "metadata": {},
   "outputs": [
    {
     "data": {
      "text/plain": [
       "STNAME\n",
       "New York    0.007168\n",
       "Name: Death Rate (%), dtype: float64"
      ]
     },
     "execution_count": 303,
     "metadata": {},
     "output_type": "execute_result"
    }
   ],
   "source": [
    "# Tx death in NY before 2007\n",
    "DE_tx_ny= DE_tx[DE_tx['STNAME'] == 'New York']\n",
    "DE_tx_ny1 = DE_tx_ny[DE_tx_ny['YEAR']<= 2007]\n",
    "DE_tx_ny1.groupby('STNAME')['Death Rate (%)'].mean()"
   ]
  },
  {
   "cell_type": "code",
   "execution_count": 304,
   "metadata": {},
   "outputs": [
    {
     "data": {
      "text/html": [
       "<div>\n",
       "<style scoped>\n",
       "    .dataframe tbody tr th:only-of-type {\n",
       "        vertical-align: middle;\n",
       "    }\n",
       "\n",
       "    .dataframe tbody tr th {\n",
       "        vertical-align: top;\n",
       "    }\n",
       "\n",
       "    .dataframe thead th {\n",
       "        text-align: right;\n",
       "    }\n",
       "</style>\n",
       "<table border=\"1\" class=\"dataframe\">\n",
       "  <thead>\n",
       "    <tr style=\"text-align: right;\">\n",
       "      <th></th>\n",
       "      <th>YEAR</th>\n",
       "      <th>STNAME</th>\n",
       "      <th>CTYNAME</th>\n",
       "      <th>Death Rate (%)</th>\n",
       "      <th>POPULATION</th>\n",
       "      <th>Indicator</th>\n",
       "    </tr>\n",
       "  </thead>\n",
       "  <tbody>\n",
       "    <tr>\n",
       "      <th>238</th>\n",
       "      <td>2006</td>\n",
       "      <td>New York</td>\n",
       "      <td>Sullivan County</td>\n",
       "      <td>0.018463</td>\n",
       "      <td>75828</td>\n",
       "      <td>Control</td>\n",
       "    </tr>\n",
       "    <tr>\n",
       "      <th>188</th>\n",
       "      <td>2006</td>\n",
       "      <td>New York</td>\n",
       "      <td>Bronx County</td>\n",
       "      <td>0.013636</td>\n",
       "      <td>1371353</td>\n",
       "      <td>Control</td>\n",
       "    </tr>\n",
       "    <tr>\n",
       "      <th>300</th>\n",
       "      <td>2007</td>\n",
       "      <td>New York</td>\n",
       "      <td>Sullivan County</td>\n",
       "      <td>0.013088</td>\n",
       "      <td>76403</td>\n",
       "      <td>Control</td>\n",
       "    </tr>\n",
       "  </tbody>\n",
       "</table>\n",
       "</div>"
      ],
      "text/plain": [
       "     YEAR    STNAME          CTYNAME  Death Rate (%)  POPULATION Indicator\n",
       "238  2006  New York  Sullivan County        0.018463       75828   Control\n",
       "188  2006  New York     Bronx County        0.013636     1371353   Control\n",
       "300  2007  New York  Sullivan County        0.013088       76403   Control"
      ]
     },
     "execution_count": 304,
     "metadata": {},
     "output_type": "execute_result"
    }
   ],
   "source": [
    "# death to NY by CTYNAME before 2007 top 3 county \n",
    "DE_tx_ny.groupby('CTYNAME')['Death Rate (%)'].mean()\n",
    "DE_tx_ny_2007 = DE_tx_ny1[DE_tx_ny1['YEAR'] <= 2007].sort_values(ascending=False,by='Death Rate (%)')\n",
    "DE_tx_ny_2007.head(3)"
   ]
  },
  {
   "cell_type": "code",
   "execution_count": 305,
   "metadata": {},
   "outputs": [
    {
     "data": {
      "text/plain": [
       "STNAME\n",
       "New York    0.010906\n",
       "Name: Death Rate (%), dtype: float64"
      ]
     },
     "execution_count": 305,
     "metadata": {},
     "output_type": "execute_result"
    }
   ],
   "source": [
    "# Tx death in NY after 2007\n",
    "DE_tx_ny2 = DE_tx_ny[DE_tx_ny['YEAR']> 2007]\n",
    "DE_tx_ny2.groupby('STNAME')['Death Rate (%)'].mean()"
   ]
  },
  {
   "cell_type": "code",
   "execution_count": 306,
   "metadata": {},
   "outputs": [
    {
     "data": {
      "text/html": [
       "<div>\n",
       "<style scoped>\n",
       "    .dataframe tbody tr th:only-of-type {\n",
       "        vertical-align: middle;\n",
       "    }\n",
       "\n",
       "    .dataframe tbody tr th {\n",
       "        vertical-align: top;\n",
       "    }\n",
       "\n",
       "    .dataframe thead th {\n",
       "        text-align: right;\n",
       "    }\n",
       "</style>\n",
       "<table border=\"1\" class=\"dataframe\">\n",
       "  <thead>\n",
       "    <tr style=\"text-align: right;\">\n",
       "      <th></th>\n",
       "      <th>YEAR</th>\n",
       "      <th>STNAME</th>\n",
       "      <th>CTYNAME</th>\n",
       "      <th>Death Rate (%)</th>\n",
       "      <th>POPULATION</th>\n",
       "      <th>Indicator</th>\n",
       "    </tr>\n",
       "  </thead>\n",
       "  <tbody>\n",
       "    <tr>\n",
       "      <th>548</th>\n",
       "      <td>2011</td>\n",
       "      <td>New York</td>\n",
       "      <td>Sullivan County</td>\n",
       "      <td>0.037633</td>\n",
       "      <td>77061</td>\n",
       "      <td>Control</td>\n",
       "    </tr>\n",
       "    <tr>\n",
       "      <th>758</th>\n",
       "      <td>2015</td>\n",
       "      <td>New York</td>\n",
       "      <td>Erie County</td>\n",
       "      <td>0.029429</td>\n",
       "      <td>920858</td>\n",
       "      <td>Control</td>\n",
       "    </tr>\n",
       "    <tr>\n",
       "      <th>735</th>\n",
       "      <td>2014</td>\n",
       "      <td>New York</td>\n",
       "      <td>Tioga County</td>\n",
       "      <td>0.026076</td>\n",
       "      <td>49855</td>\n",
       "      <td>Control</td>\n",
       "    </tr>\n",
       "  </tbody>\n",
       "</table>\n",
       "</div>"
      ],
      "text/plain": [
       "     YEAR    STNAME          CTYNAME  Death Rate (%)  POPULATION Indicator\n",
       "548  2011  New York  Sullivan County        0.037633       77061   Control\n",
       "758  2015  New York      Erie County        0.029429      920858   Control\n",
       "735  2014  New York     Tioga County        0.026076       49855   Control"
      ]
     },
     "execution_count": 306,
     "metadata": {},
     "output_type": "execute_result"
    }
   ],
   "source": [
    "# death to NY by CTYNAME after 2007 top 3 county \n",
    "DE_tx_ny_after_2007 = DE_tx_ny2[DE_tx_ny2['YEAR'] > 2007].sort_values(ascending=False,by='Death Rate (%)')\n",
    "DE_tx_ny_after_2007.head(3)"
   ]
  },
  {
   "cell_type": "code",
   "execution_count": 307,
   "metadata": {},
   "outputs": [
    {
     "data": {
      "text/plain": [
       "STNAME\n",
       "Oregon    0.009841\n",
       "Name: Death Rate (%), dtype: float64"
      ]
     },
     "execution_count": 307,
     "metadata": {},
     "output_type": "execute_result"
    }
   ],
   "source": [
    "# Tx death in Or before 2007\n",
    "DE_tx_or= DE_tx[DE_tx['STNAME'] == 'Oregon']\n",
    "DE_tx_or1 = DE_tx_or[DE_tx_or['YEAR']<= 2007]\n",
    "DE_tx_or1.groupby('STNAME')['Death Rate (%)'].mean()"
   ]
  },
  {
   "cell_type": "code",
   "execution_count": 308,
   "metadata": {},
   "outputs": [
    {
     "data": {
      "text/html": [
       "<div>\n",
       "<style scoped>\n",
       "    .dataframe tbody tr th:only-of-type {\n",
       "        vertical-align: middle;\n",
       "    }\n",
       "\n",
       "    .dataframe tbody tr th {\n",
       "        vertical-align: top;\n",
       "    }\n",
       "\n",
       "    .dataframe thead th {\n",
       "        text-align: right;\n",
       "    }\n",
       "</style>\n",
       "<table border=\"1\" class=\"dataframe\">\n",
       "  <thead>\n",
       "    <tr style=\"text-align: right;\">\n",
       "      <th></th>\n",
       "      <th>YEAR</th>\n",
       "      <th>STNAME</th>\n",
       "      <th>CTYNAME</th>\n",
       "      <th>Death Rate (%)</th>\n",
       "      <th>POPULATION</th>\n",
       "      <th>Indicator</th>\n",
       "    </tr>\n",
       "  </thead>\n",
       "  <tbody>\n",
       "    <tr>\n",
       "      <th>975</th>\n",
       "      <td>2007</td>\n",
       "      <td>Oregon</td>\n",
       "      <td>Multnomah County</td>\n",
       "      <td>0.023384</td>\n",
       "      <td>697048</td>\n",
       "      <td>Control</td>\n",
       "    </tr>\n",
       "    <tr>\n",
       "      <th>928</th>\n",
       "      <td>2006</td>\n",
       "      <td>Oregon</td>\n",
       "      <td>Jackson County</td>\n",
       "      <td>0.021411</td>\n",
       "      <td>196165</td>\n",
       "      <td>Control</td>\n",
       "    </tr>\n",
       "    <tr>\n",
       "      <th>939</th>\n",
       "      <td>2006</td>\n",
       "      <td>Oregon</td>\n",
       "      <td>Multnomah County</td>\n",
       "      <td>0.019041</td>\n",
       "      <td>682732</td>\n",
       "      <td>Control</td>\n",
       "    </tr>\n",
       "  </tbody>\n",
       "</table>\n",
       "</div>"
      ],
      "text/plain": [
       "     YEAR  STNAME           CTYNAME  Death Rate (%)  POPULATION Indicator\n",
       "975  2007  Oregon  Multnomah County        0.023384      697048   Control\n",
       "928  2006  Oregon    Jackson County        0.021411      196165   Control\n",
       "939  2006  Oregon  Multnomah County        0.019041      682732   Control"
      ]
     },
     "execution_count": 308,
     "metadata": {},
     "output_type": "execute_result"
    }
   ],
   "source": [
    "# death to Or by CTYNAME before 2007 top 3 county \n",
    "DE_tx_or.groupby('CTYNAME')['Death Rate (%)'].mean()\n",
    "DE_tx_or_2007 = DE_tx_or1[DE_tx_or1['YEAR'] <= 2007].sort_values(ascending=False,by='Death Rate (%)')\n",
    "DE_tx_or_2007.head(3)"
   ]
  },
  {
   "cell_type": "code",
   "execution_count": 309,
   "metadata": {},
   "outputs": [
    {
     "data": {
      "text/plain": [
       "STNAME\n",
       "Oregon    0.011287\n",
       "Name: Death Rate (%), dtype: float64"
      ]
     },
     "execution_count": 309,
     "metadata": {},
     "output_type": "execute_result"
    }
   ],
   "source": [
    "# Tx death in Or after 2007\n",
    "DE_tx_or2 = DE_tx_or[DE_tx_or['YEAR']> 2007]\n",
    "DE_tx_or2.groupby('STNAME')['Death Rate (%)'].mean()"
   ]
  },
  {
   "cell_type": "code",
   "execution_count": 310,
   "metadata": {},
   "outputs": [
    {
     "data": {
      "text/html": [
       "<div>\n",
       "<style scoped>\n",
       "    .dataframe tbody tr th:only-of-type {\n",
       "        vertical-align: middle;\n",
       "    }\n",
       "\n",
       "    .dataframe tbody tr th {\n",
       "        vertical-align: top;\n",
       "    }\n",
       "\n",
       "    .dataframe thead th {\n",
       "        text-align: right;\n",
       "    }\n",
       "</style>\n",
       "<table border=\"1\" class=\"dataframe\">\n",
       "  <thead>\n",
       "    <tr style=\"text-align: right;\">\n",
       "      <th></th>\n",
       "      <th>YEAR</th>\n",
       "      <th>STNAME</th>\n",
       "      <th>CTYNAME</th>\n",
       "      <th>Death Rate (%)</th>\n",
       "      <th>POPULATION</th>\n",
       "      <th>Indicator</th>\n",
       "    </tr>\n",
       "  </thead>\n",
       "  <tbody>\n",
       "    <tr>\n",
       "      <th>1097</th>\n",
       "      <td>2011</td>\n",
       "      <td>Oregon</td>\n",
       "      <td>Clatsop County</td>\n",
       "      <td>0.029537</td>\n",
       "      <td>37241</td>\n",
       "      <td>Control</td>\n",
       "    </tr>\n",
       "    <tr>\n",
       "      <th>1222</th>\n",
       "      <td>2014</td>\n",
       "      <td>Oregon</td>\n",
       "      <td>Lincoln County</td>\n",
       "      <td>0.025872</td>\n",
       "      <td>46383</td>\n",
       "      <td>Control</td>\n",
       "    </tr>\n",
       "    <tr>\n",
       "      <th>1041</th>\n",
       "      <td>2009</td>\n",
       "      <td>Oregon</td>\n",
       "      <td>Lane County</td>\n",
       "      <td>0.021361</td>\n",
       "      <td>351109</td>\n",
       "      <td>Control</td>\n",
       "    </tr>\n",
       "  </tbody>\n",
       "</table>\n",
       "</div>"
      ],
      "text/plain": [
       "      YEAR  STNAME         CTYNAME  Death Rate (%)  POPULATION Indicator\n",
       "1097  2011  Oregon  Clatsop County        0.029537       37241   Control\n",
       "1222  2014  Oregon  Lincoln County        0.025872       46383   Control\n",
       "1041  2009  Oregon     Lane County        0.021361      351109   Control"
      ]
     },
     "execution_count": 310,
     "metadata": {},
     "output_type": "execute_result"
    }
   ],
   "source": [
    "# death to Or by CTYNAME after 2007 top 3 county \n",
    "DE_tx_or_after_2007 = DE_tx_or2[DE_tx_or2['YEAR'] > 2007].sort_values(ascending=False,by='Death Rate (%)')\n",
    "DE_tx_or_after_2007.head(3)"
   ]
  },
  {
   "cell_type": "code",
   "execution_count": 311,
   "metadata": {},
   "outputs": [
    {
     "data": {
      "text/plain": [
       "STNAME\n",
       "Texas    0.009794\n",
       "Name: Death Rate (%), dtype: float64"
      ]
     },
     "execution_count": 311,
     "metadata": {},
     "output_type": "execute_result"
    }
   ],
   "source": [
    "# Tx death in Tx before 2007\n",
    "DE_tx_tx= DE_tx[DE_tx['STNAME'] == 'Texas']\n",
    "DE_tx_tx1 = DE_tx_tx[DE_tx_tx['YEAR']<= 2007]\n",
    "DE_tx_tx1.groupby('STNAME')['Death Rate (%)'].mean()"
   ]
  },
  {
   "cell_type": "code",
   "execution_count": 312,
   "metadata": {},
   "outputs": [
    {
     "data": {
      "text/html": [
       "<div>\n",
       "<style scoped>\n",
       "    .dataframe tbody tr th:only-of-type {\n",
       "        vertical-align: middle;\n",
       "    }\n",
       "\n",
       "    .dataframe tbody tr th {\n",
       "        vertical-align: top;\n",
       "    }\n",
       "\n",
       "    .dataframe thead th {\n",
       "        text-align: right;\n",
       "    }\n",
       "</style>\n",
       "<table border=\"1\" class=\"dataframe\">\n",
       "  <thead>\n",
       "    <tr style=\"text-align: right;\">\n",
       "      <th></th>\n",
       "      <th>YEAR</th>\n",
       "      <th>STNAME</th>\n",
       "      <th>CTYNAME</th>\n",
       "      <th>Death Rate (%)</th>\n",
       "      <th>POPULATION</th>\n",
       "      <th>Indicator</th>\n",
       "    </tr>\n",
       "  </thead>\n",
       "  <tbody>\n",
       "    <tr>\n",
       "      <th>2216</th>\n",
       "      <td>2006</td>\n",
       "      <td>Texas</td>\n",
       "      <td>Orange County</td>\n",
       "      <td>0.041554</td>\n",
       "      <td>81822</td>\n",
       "      <td>Treatment</td>\n",
       "    </tr>\n",
       "    <tr>\n",
       "      <th>2039</th>\n",
       "      <td>2006</td>\n",
       "      <td>Texas</td>\n",
       "      <td>Aransas County</td>\n",
       "      <td>0.041004</td>\n",
       "      <td>24388</td>\n",
       "      <td>Treatment</td>\n",
       "    </tr>\n",
       "    <tr>\n",
       "      <th>2222</th>\n",
       "      <td>2006</td>\n",
       "      <td>Texas</td>\n",
       "      <td>Polk County</td>\n",
       "      <td>0.028206</td>\n",
       "      <td>46089</td>\n",
       "      <td>Treatment</td>\n",
       "    </tr>\n",
       "  </tbody>\n",
       "</table>\n",
       "</div>"
      ],
      "text/plain": [
       "      YEAR STNAME         CTYNAME  Death Rate (%)  POPULATION  Indicator\n",
       "2216  2006  Texas   Orange County        0.041554       81822  Treatment\n",
       "2039  2006  Texas  Aransas County        0.041004       24388  Treatment\n",
       "2222  2006  Texas     Polk County        0.028206       46089  Treatment"
      ]
     },
     "execution_count": 312,
     "metadata": {},
     "output_type": "execute_result"
    }
   ],
   "source": [
    "# death to Tx by CTYNAME before 2007 top 3 county \n",
    "DE_tx_tx.groupby('CTYNAME')['Death Rate (%)'].mean()\n",
    "DE_tx_tx_2007 = DE_tx_tx1[DE_tx_tx1['YEAR'] <= 2007].sort_values(ascending=False,by='Death Rate (%)')\n",
    "DE_tx_tx_2007.head(3)"
   ]
  },
  {
   "cell_type": "code",
   "execution_count": 313,
   "metadata": {},
   "outputs": [
    {
     "data": {
      "text/plain": [
       "STNAME\n",
       "Texas    0.010422\n",
       "Name: Death Rate (%), dtype: float64"
      ]
     },
     "execution_count": 313,
     "metadata": {},
     "output_type": "execute_result"
    }
   ],
   "source": [
    "# Tx death in Tx after 2007\n",
    "DE_tx_tx2 = DE_tx_tx[DE_tx_tx['YEAR']> 2007]\n",
    "DE_tx_tx2.groupby('STNAME')['Death Rate (%)'].mean()"
   ]
  },
  {
   "cell_type": "code",
   "execution_count": 314,
   "metadata": {},
   "outputs": [
    {
     "data": {
      "text/html": [
       "<div>\n",
       "<style scoped>\n",
       "    .dataframe tbody tr th:only-of-type {\n",
       "        vertical-align: middle;\n",
       "    }\n",
       "\n",
       "    .dataframe tbody tr th {\n",
       "        vertical-align: top;\n",
       "    }\n",
       "\n",
       "    .dataframe thead th {\n",
       "        text-align: right;\n",
       "    }\n",
       "</style>\n",
       "<table border=\"1\" class=\"dataframe\">\n",
       "  <thead>\n",
       "    <tr style=\"text-align: right;\">\n",
       "      <th></th>\n",
       "      <th>YEAR</th>\n",
       "      <th>STNAME</th>\n",
       "      <th>CTYNAME</th>\n",
       "      <th>Death Rate (%)</th>\n",
       "      <th>POPULATION</th>\n",
       "      <th>Indicator</th>\n",
       "    </tr>\n",
       "  </thead>\n",
       "  <tbody>\n",
       "    <tr>\n",
       "      <th>2978</th>\n",
       "      <td>2009</td>\n",
       "      <td>Texas</td>\n",
       "      <td>Orange County</td>\n",
       "      <td>0.035445</td>\n",
       "      <td>81816</td>\n",
       "      <td>Treatment</td>\n",
       "    </tr>\n",
       "    <tr>\n",
       "      <th>3232</th>\n",
       "      <td>2010</td>\n",
       "      <td>Texas</td>\n",
       "      <td>Orange County</td>\n",
       "      <td>0.030482</td>\n",
       "      <td>82015</td>\n",
       "      <td>Treatment</td>\n",
       "    </tr>\n",
       "    <tr>\n",
       "      <th>3163</th>\n",
       "      <td>2010</td>\n",
       "      <td>Texas</td>\n",
       "      <td>Hopkins County</td>\n",
       "      <td>0.028400</td>\n",
       "      <td>35211</td>\n",
       "      <td>Treatment</td>\n",
       "    </tr>\n",
       "  </tbody>\n",
       "</table>\n",
       "</div>"
      ],
      "text/plain": [
       "      YEAR STNAME         CTYNAME  Death Rate (%)  POPULATION  Indicator\n",
       "2978  2009  Texas   Orange County        0.035445       81816  Treatment\n",
       "3232  2010  Texas   Orange County        0.030482       82015  Treatment\n",
       "3163  2010  Texas  Hopkins County        0.028400       35211  Treatment"
      ]
     },
     "execution_count": 314,
     "metadata": {},
     "output_type": "execute_result"
    }
   ],
   "source": [
    "# death to Tx by CTYNAME after 2007 top 3 county \n",
    "DE_tx_or_after_2007 = DE_tx_tx2[DE_tx_tx2['YEAR'] > 2007].sort_values(ascending=False,by='Death Rate (%)')\n",
    "DE_tx_or_after_2007.head(3)"
   ]
  }
 ],
 "metadata": {
  "kernelspec": {
   "display_name": "Python 3.10.6 ('base')",
   "language": "python",
   "name": "python3"
  },
  "language_info": {
   "codemirror_mode": {
    "name": "ipython",
    "version": 3
   },
   "file_extension": ".py",
   "mimetype": "text/x-python",
   "name": "python",
   "nbconvert_exporter": "python",
   "pygments_lexer": "ipython3",
   "version": "3.10.6"
  },
  "orig_nbformat": 4,
  "vscode": {
   "interpreter": {
    "hash": "4f06bde831ca988703cb9b7830ea1c8602b5ef42f5d637e6173f7638bf4a67b4"
   }
  }
 },
 "nbformat": 4,
 "nbformat_minor": 2
}
