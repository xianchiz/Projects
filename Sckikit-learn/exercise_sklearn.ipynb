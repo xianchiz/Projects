{
 "cells": [
  {
   "cell_type": "code",
   "execution_count": 43,
   "metadata": {},
   "outputs": [],
   "source": [
    "import numpy as np\n",
    "import pandas as pd\n",
    "import patsy as pt\n",
    "import sklearn as sk\n"
   ]
  },
  {
   "cell_type": "markdown",
   "metadata": {},
   "source": [
    "### Exercise 1 Importing Data"
   ]
  },
  {
   "cell_type": "code",
   "execution_count": 44,
   "metadata": {},
   "outputs": [
    {
     "data": {
      "text/html": [
       "<div>\n",
       "<style scoped>\n",
       "    .dataframe tbody tr th:only-of-type {\n",
       "        vertical-align: middle;\n",
       "    }\n",
       "\n",
       "    .dataframe tbody tr th {\n",
       "        vertical-align: top;\n",
       "    }\n",
       "\n",
       "    .dataframe thead th {\n",
       "        text-align: right;\n",
       "    }\n",
       "</style>\n",
       "<table border=\"1\" class=\"dataframe\">\n",
       "  <thead>\n",
       "    <tr style=\"text-align: right;\">\n",
       "      <th></th>\n",
       "      <th>id</th>\n",
       "      <th>date</th>\n",
       "      <th>gestation</th>\n",
       "      <th>bwt</th>\n",
       "      <th>parity</th>\n",
       "      <th>mrace</th>\n",
       "      <th>mage</th>\n",
       "      <th>med</th>\n",
       "      <th>mht</th>\n",
       "      <th>mpregwt</th>\n",
       "      <th>inc</th>\n",
       "      <th>smoke</th>\n",
       "    </tr>\n",
       "  </thead>\n",
       "  <tbody>\n",
       "    <tr>\n",
       "      <th>0</th>\n",
       "      <td>4604</td>\n",
       "      <td>1598</td>\n",
       "      <td>148</td>\n",
       "      <td>116</td>\n",
       "      <td>7</td>\n",
       "      <td>Black</td>\n",
       "      <td>28</td>\n",
       "      <td>1</td>\n",
       "      <td>66</td>\n",
       "      <td>135</td>\n",
       "      <td>2</td>\n",
       "      <td>0</td>\n",
       "    </tr>\n",
       "    <tr>\n",
       "      <th>1</th>\n",
       "      <td>7435</td>\n",
       "      <td>1527</td>\n",
       "      <td>181</td>\n",
       "      <td>110</td>\n",
       "      <td>7</td>\n",
       "      <td>Black</td>\n",
       "      <td>27</td>\n",
       "      <td>1</td>\n",
       "      <td>64</td>\n",
       "      <td>133</td>\n",
       "      <td>1</td>\n",
       "      <td>0</td>\n",
       "    </tr>\n",
       "    <tr>\n",
       "      <th>2</th>\n",
       "      <td>7722</td>\n",
       "      <td>1563</td>\n",
       "      <td>204</td>\n",
       "      <td>55</td>\n",
       "      <td>11</td>\n",
       "      <td>Black</td>\n",
       "      <td>35</td>\n",
       "      <td>3</td>\n",
       "      <td>65</td>\n",
       "      <td>140</td>\n",
       "      <td>6</td>\n",
       "      <td>0</td>\n",
       "    </tr>\n",
       "    <tr>\n",
       "      <th>3</th>\n",
       "      <td>2026</td>\n",
       "      <td>1503</td>\n",
       "      <td>225</td>\n",
       "      <td>132</td>\n",
       "      <td>4</td>\n",
       "      <td>Black</td>\n",
       "      <td>28</td>\n",
       "      <td>2</td>\n",
       "      <td>67</td>\n",
       "      <td>148</td>\n",
       "      <td>3</td>\n",
       "      <td>0</td>\n",
       "    </tr>\n",
       "    <tr>\n",
       "      <th>4</th>\n",
       "      <td>3553</td>\n",
       "      <td>1638</td>\n",
       "      <td>233</td>\n",
       "      <td>105</td>\n",
       "      <td>4</td>\n",
       "      <td>Black</td>\n",
       "      <td>34</td>\n",
       "      <td>3</td>\n",
       "      <td>61</td>\n",
       "      <td>130</td>\n",
       "      <td>3</td>\n",
       "      <td>0</td>\n",
       "    </tr>\n",
       "    <tr>\n",
       "      <th>5</th>\n",
       "      <td>3491</td>\n",
       "      <td>1705</td>\n",
       "      <td>234</td>\n",
       "      <td>85</td>\n",
       "      <td>7</td>\n",
       "      <td>Black</td>\n",
       "      <td>33</td>\n",
       "      <td>1</td>\n",
       "      <td>67</td>\n",
       "      <td>130</td>\n",
       "      <td>2</td>\n",
       "      <td>0</td>\n",
       "    </tr>\n",
       "    <tr>\n",
       "      <th>6</th>\n",
       "      <td>6757</td>\n",
       "      <td>1444</td>\n",
       "      <td>234</td>\n",
       "      <td>97</td>\n",
       "      <td>0</td>\n",
       "      <td>Hispanic</td>\n",
       "      <td>26</td>\n",
       "      <td>5</td>\n",
       "      <td>65</td>\n",
       "      <td>112</td>\n",
       "      <td>6</td>\n",
       "      <td>0</td>\n",
       "    </tr>\n",
       "    <tr>\n",
       "      <th>7</th>\n",
       "      <td>6153</td>\n",
       "      <td>1405</td>\n",
       "      <td>235</td>\n",
       "      <td>129</td>\n",
       "      <td>3</td>\n",
       "      <td>Black</td>\n",
       "      <td>24</td>\n",
       "      <td>4</td>\n",
       "      <td>66</td>\n",
       "      <td>135</td>\n",
       "      <td>1</td>\n",
       "      <td>0</td>\n",
       "    </tr>\n",
       "    <tr>\n",
       "      <th>8</th>\n",
       "      <td>8187</td>\n",
       "      <td>1669</td>\n",
       "      <td>236</td>\n",
       "      <td>63</td>\n",
       "      <td>0</td>\n",
       "      <td>White</td>\n",
       "      <td>24</td>\n",
       "      <td>5</td>\n",
       "      <td>58</td>\n",
       "      <td>99</td>\n",
       "      <td>7</td>\n",
       "      <td>0</td>\n",
       "    </tr>\n",
       "    <tr>\n",
       "      <th>9</th>\n",
       "      <td>8403</td>\n",
       "      <td>1669</td>\n",
       "      <td>241</td>\n",
       "      <td>128</td>\n",
       "      <td>0</td>\n",
       "      <td>Black</td>\n",
       "      <td>17</td>\n",
       "      <td>1</td>\n",
       "      <td>64</td>\n",
       "      <td>126</td>\n",
       "      <td>2</td>\n",
       "      <td>0</td>\n",
       "    </tr>\n",
       "  </tbody>\n",
       "</table>\n",
       "</div>"
      ],
      "text/plain": [
       "     id  date  gestation  bwt  parity     mrace  mage  med  mht  mpregwt  inc  \\\n",
       "0  4604  1598        148  116       7     Black    28    1   66      135    2   \n",
       "1  7435  1527        181  110       7     Black    27    1   64      133    1   \n",
       "2  7722  1563        204   55      11     Black    35    3   65      140    6   \n",
       "3  2026  1503        225  132       4     Black    28    2   67      148    3   \n",
       "4  3553  1638        233  105       4     Black    34    3   61      130    3   \n",
       "5  3491  1705        234   85       7     Black    33    1   67      130    2   \n",
       "6  6757  1444        234   97       0  Hispanic    26    5   65      112    6   \n",
       "7  6153  1405        235  129       3     Black    24    4   66      135    1   \n",
       "8  8187  1669        236   63       0     White    24    5   58       99    7   \n",
       "9  8403  1669        241  128       0     Black    17    1   64      126    2   \n",
       "\n",
       "   smoke  \n",
       "0      0  \n",
       "1      0  \n",
       "2      0  \n",
       "3      0  \n",
       "4      0  \n",
       "5      0  \n",
       "6      0  \n",
       "7      0  \n",
       "8      0  \n",
       "9      0  "
      ]
     },
     "execution_count": 44,
     "metadata": {},
     "output_type": "execute_result"
    }
   ],
   "source": [
    "url = \"https://media.githubusercontent.com/media/nickeubank/MIDS_Data/master/smoking.csv\"\n",
    "df = pd.read_csv(url)\n",
    "smoking = df.rename({\"bwt.oz\":\"bwt\"}, axis='columns')\n",
    "smoking.head(10)\n",
    "smoking['mrace']= smoking['mrace'].replace([0,1,2,3,4,5, 6, 7, 8,9,99],\n",
    " ['White', 'White','White','White','White', 'White','Hispanic','Black', 'Other', 'Other', 'Other'])\n",
    "smoking.head(10)"
   ]
  },
  {
   "cell_type": "markdown",
   "metadata": {},
   "source": [
    "### Exercise 2"
   ]
  },
  {
   "cell_type": "code",
   "execution_count": 45,
   "metadata": {},
   "outputs": [],
   "source": [
    "y,X = pt.dmatrices(\"bwt ~ mrace + smoke + mage + mpregwt + mht\", data=smoking, return_type='dataframe')"
   ]
  },
  {
   "cell_type": "markdown",
   "metadata": {},
   "source": [
    "### Exercise 3"
   ]
  },
  {
   "cell_type": "code",
   "execution_count": 46,
   "metadata": {},
   "outputs": [],
   "source": [
    "ex3_num_columns = 7"
   ]
  },
  {
   "cell_type": "markdown",
   "metadata": {},
   "source": [
    "### Exercise 4 Splitting Data¶"
   ]
  },
  {
   "cell_type": "code",
   "execution_count": 47,
   "metadata": {},
   "outputs": [],
   "source": [
    "from sklearn.model_selection import train_test_split\n",
    "X_train, X_test, y_train, y_test = train_test_split(X, y,test_size=0.2,train_size=0.8,random_state=42)"
   ]
  },
  {
   "cell_type": "markdown",
   "metadata": {},
   "source": [
    "### Exercise 5 Training your Model"
   ]
  },
  {
   "cell_type": "code",
   "execution_count": 48,
   "metadata": {},
   "outputs": [],
   "source": [
    "from sklearn.linear_model import LinearRegression\n",
    "my_model = LinearRegression(fit_intercept=False)"
   ]
  },
  {
   "cell_type": "markdown",
   "metadata": {},
   "source": [
    "### Exercise 6"
   ]
  },
  {
   "cell_type": "code",
   "execution_count": 49,
   "metadata": {},
   "outputs": [
    {
     "data": {
      "text/plain": [
       "array([[ 3.41751734e+01,  1.35510330e+01,  3.61836336e+00,\n",
       "         9.33373203e+00, -9.19056294e+00, -1.73718147e-04,\n",
       "         1.22252130e-01,  1.02349443e+00]])"
      ]
     },
     "execution_count": 49,
     "metadata": {},
     "output_type": "execute_result"
    }
   ],
   "source": [
    "my_model.fit(X_train, y_train)\n",
    "ex6_model_smoking = my_model.coef_\n",
    "ex6_model_smoking"
   ]
  },
  {
   "cell_type": "markdown",
   "metadata": {},
   "source": [
    "### Exercise 7"
   ]
  },
  {
   "cell_type": "code",
   "execution_count": 50,
   "metadata": {},
   "outputs": [
    {
     "data": {
      "text/plain": [
       "118.77419618919188"
      ]
     },
     "execution_count": 50,
     "metadata": {},
     "output_type": "execute_result"
    }
   ],
   "source": [
    "predic = my_model.predict(X_test)\n",
    "predic[0][0]\n",
    "ex7_first_prediction = predic[0][0]\n",
    "ex7_first_prediction"
   ]
  },
  {
   "cell_type": "markdown",
   "metadata": {},
   "source": [
    "### Exercise 8"
   ]
  },
  {
   "cell_type": "code",
   "execution_count": 51,
   "metadata": {},
   "outputs": [
    {
     "data": {
      "text/plain": [
       "0.07427937766715709"
      ]
     },
     "execution_count": 51,
     "metadata": {},
     "output_type": "execute_result"
    }
   ],
   "source": [
    "my_model.score(X_test, y_test)\n",
    "ex8_score = my_model.score(X_test, y_test)\n",
    "ex8_score"
   ]
  },
  {
   "cell_type": "markdown",
   "metadata": {},
   "source": [
    "### Exercise 9"
   ]
  },
  {
   "cell_type": "code",
   "execution_count": 52,
   "metadata": {},
   "outputs": [
    {
     "data": {
      "text/plain": [
       "0.02"
      ]
     },
     "execution_count": 52,
     "metadata": {},
     "output_type": "execute_result"
    }
   ],
   "source": [
    "from sklearn.svm import SVR\n",
    "my_model2 = SVR()\n",
    "my_model2.fit(X_train, y_train.values.ravel())  \n",
    "my_model2.score(X_test, y_test)\n",
    "ex9_SVR_score = round(my_model2.score(X_test, y_test),2)\n",
    "ex9_SVR_score\n",
    "\n",
    "\n"
   ]
  },
  {
   "cell_type": "markdown",
   "metadata": {},
   "source": [
    "### Exercise 10"
   ]
  },
  {
   "cell_type": "code",
   "execution_count": 57,
   "metadata": {},
   "outputs": [
    {
     "data": {
      "text/plain": [
       "0.07"
      ]
     },
     "execution_count": 57,
     "metadata": {},
     "output_type": "execute_result"
    }
   ],
   "source": [
    "from sklearn.svm import SVR \n",
    "my_model = SVR(kernel='linear', C=1e3)\n",
    "my_model.fit(X_train, y_train.values.ravel())\n",
    "my_model.score(X_test, y_test)\n",
    "ex10_SVR_linear_score = round(my_model.score(X_test, y_test),2)\n",
    "ex10_SVR_linear_score"
   ]
  },
  {
   "cell_type": "markdown",
   "metadata": {},
   "source": [
    "### Exercise 11"
   ]
  },
  {
   "cell_type": "code",
   "execution_count": 54,
   "metadata": {},
   "outputs": [
    {
     "data": {
      "text/plain": [
       "-1.02"
      ]
     },
     "execution_count": 54,
     "metadata": {},
     "output_type": "execute_result"
    }
   ],
   "source": [
    "from sklearn.svm import SVR\n",
    "my_model2 = SVR(kernel='rbf', C=1e3, gamma=0.1)\n",
    "my_model2.fit(X_train, y_train.values.ravel())\n",
    "my_model2.score(X_test, y_test)\n",
    "ex11_SVR_rbf_score = round(my_model2.score(X_test, y_test),2)\n",
    "ex11_SVR_rbf_score"
   ]
  },
  {
   "cell_type": "code",
   "execution_count": 55,
   "metadata": {},
   "outputs": [],
   "source": [
    "results = {\"ex3_num_columns\": ex3_num_columns,\n",
    "    \"ex6_model_smoking\": ex6_model_smoking,\n",
    "    \"ex7_first_prediction\": ex7_first_prediction,\n",
    "    \"ex8_score\": ex8_score,\n",
    "    \"ex9_SVR_score\": ex9_SVR_score,\n",
    "    \"ex10_SVR_linear_score\": ex10_SVR_linear_score,}"
   ]
  },
  {
   "cell_type": "code",
   "execution_count": 56,
   "metadata": {},
   "outputs": [],
   "source": [
    "assert set(results.keys()) == {\n",
    "    \"ex3_num_columns\",\n",
    "    \"ex6_model_smoking\",\n",
    "    \"ex7_first_prediction\",\n",
    "    \"ex8_score\",\n",
    "    \"ex9_SVR_score\",\n",
    "    \"ex10_SVR_linear_score\",\n",
    "}"
   ]
  }
 ],
 "metadata": {
  "kernelspec": {
   "display_name": "Python 3.10.6 ('base')",
   "language": "python",
   "name": "python3"
  },
  "language_info": {
   "codemirror_mode": {
    "name": "ipython",
    "version": 3
   },
   "file_extension": ".py",
   "mimetype": "text/x-python",
   "name": "python",
   "nbconvert_exporter": "python",
   "pygments_lexer": "ipython3",
   "version": "3.10.6"
  },
  "orig_nbformat": 4,
  "vscode": {
   "interpreter": {
    "hash": "4f06bde831ca988703cb9b7830ea1c8602b5ef42f5d637e6173f7638bf4a67b4"
   }
  }
 },
 "nbformat": 4,
 "nbformat_minor": 2
}
